{
 "cells": [
  {
   "cell_type": "code",
   "execution_count": 1,
   "metadata": {},
   "outputs": [],
   "source": [
    "import os\n",
    "import re\n",
    "import json\n",
    "import pandas as pd\n",
    "from collections import Counter\n",
    "import spacy\n",
    "from spacy.tokens import Doc\n",
    "\n",
    "from nltk.sentiment.vader import SentimentIntensityAnalyzer\n",
    "from nltk.corpus import stopwords\n",
    "from nltk.corpus import sentiwordnet as swn\n",
    "\n",
    "sentiment_analyzer = SentimentIntensityAnalyzer()\n",
    "def polarity_scores(doc):\n",
    "    return sentiment_analyzer.polarity_scores(doc.text)\n",
    "Doc.set_extension('polarity_scores', getter=polarity_scores)\n",
    "nlp = spacy.load(\"en_core_web_lg\")    \n",
    "\n",
    "from tqdm import tqdm\n"
   ]
  },
  {
   "cell_type": "code",
   "execution_count": 2,
   "metadata": {},
   "outputs": [],
   "source": [
    "convTimelineCell = 42\n",
    "minLines = 50\n",
    "stripPersonnas = True\n",
    "main = ['jerry', 'summer', 'beth', 'rick', 'morty', 'pickle rick', 'unity']\n",
    "keysToRemove = ['fullText', 'pron', 'lines']\n",
    "replace = {\n",
    "    'rick sanches': 'rick',\n",
    "    'drunk rick': 'rick',\n",
    "    'morty smith': 'morty',\n",
    "    'gromfomite': 'gromflomite',\n",
    "    'other gromflomite': 'gromflomite',\n",
    "    'gromflomite captain': 'gromflomite',\n",
    "    'gromflomite worker': 'gromflomite',\n",
    "    'gromflomite guard': 'gromflomite',\n",
    "    'gromflomite office employee': 'gromflomite',\n",
    "    'rick salseman': 'rick salesman',\n",
    "    'armed ricks': 'armed rick',\n",
    "    'all religious mortys': 'religious morty',\n",
    "    'little tommy': 'tommy',\n",
    "    'meeseek': 'meeseeks',\n",
    "    'all the meeseeks': 'meeseeks',\n",
    "    'all other meeseeks': 'meeseeks',\n",
    "    'mailmen': 'mailman',\n",
    "    'gerry': 'jerry'\n",
    "    \n",
    "}\n",
    "ignore = [\n",
    "    'a mexican armada shows up. with weapons made from two', \n",
    "    'pa system', \n",
    "    'all classmates except morty',\n",
    "    'another voice',\n",
    "    'sexualized s',\n",
    "    'both']\n",
    "\n",
    "#main = ['beth']\n",
    "data = {\n",
    "    'characters': {},\n",
    "}"
   ]
  },
  {
   "cell_type": "code",
   "execution_count": 3,
   "metadata": {},
   "outputs": [],
   "source": [
    "wordsDf = pd.DataFrame(columns=['words'])\n",
    " \n",
    "def do_nlp(character, line, file, section):\n",
    "    non_actions = re.sub(r'\\[.*\\]|\\(.*\\)', '', line)\n",
    "    non_actions = re.sub(r'[!\\.\\?\\;\\\"\\-\\*]', ' ', non_actions)\n",
    "    non_actions = re.sub(r'([a-z])\\1{2,}',r'\\1', non_actions)\n",
    "\n",
    "    text = '';\n",
    "    \n",
    "    doc = nlp(non_actions)\n",
    "    \n",
    "    for token in doc:\n",
    "        if (token.lemma_ != '-PRON-'):        \n",
    "            text = text + token.lemma_ + ' '        \n",
    "    \n",
    "    character['fullText'] += non_actions    \n",
    "    score = doc._.polarity_scores['compound']\n",
    "\n",
    "    actualVal =  character['sentiment'][section] if character['sentiment'][section] != False else 0\n",
    "    character['sentiment'][section] = (actualVal + score) / 2\n",
    "    \n",
    "    actualVal =  character['episodes'][file]['sentiment'][section] if character['episodes'][file]['sentiment'][section] != False else 0\n",
    "    character['episodes'][file]['sentiment'][section] = (actualVal + score) / 2\n",
    "    \n",
    "    if abs(score)>.2:\n",
    "        character['episodes'][file]['sentimentLine'][section] += non_actions;"
   ]
  },
  {
   "cell_type": "code",
   "execution_count": 4,
   "metadata": {},
   "outputs": [],
   "source": [
    "def getCharacter(characterName):\n",
    "    characters = data['characters']\n",
    "    try:\n",
    "        character = characters[characterName]\n",
    "    except KeyError:\n",
    "        character = characters[characterName] = {\n",
    "            'linesCount': 0, \n",
    "            'lines': [], \n",
    "            'time': [0] * convTimelineCell, \n",
    "            \n",
    "            'episodes': {},\n",
    "            'pron': {},\n",
    "            'fullText': ''\n",
    "        }\n",
    "        if characterName in main:\n",
    "            character['sentiment'] = ([False] * convTimelineCell)\n",
    "            character['sentimentLine'] = ([''] * convTimelineCell)\n",
    "\n",
    "    return character\n",
    "\n",
    "def parseLine(characterName, line, file, section):\n",
    "    character = getCharacter(characterName)    \n",
    "    character['linesCount'] += 1    \n",
    "    episodes = character['episodes']\n",
    "    \n",
    "    try: \n",
    "        episode = episodes[file]\n",
    "    except:\n",
    "        episode = episodes[file] = {\n",
    "            'linesCount': 0,\n",
    "            'time': [0]*convTimelineCell,\n",
    "            \n",
    "        }\n",
    "        if characterName in main:\n",
    "            episode['sentiment'] = ([False] * convTimelineCell)\n",
    "            episode['sentimentLine'] = ([''] * convTimelineCell)\n",
    "        \n",
    "    character['time'][section] += 1\n",
    "    episode['time'][section] += 1\n",
    "    episode['linesCount'] += 1\n",
    "    \n",
    "    if characterName in main:\n",
    "        do_nlp(character, line, file, section)"
   ]
  },
  {
   "cell_type": "code",
   "execution_count": 5,
   "metadata": {
    "scrolled": false
   },
   "outputs": [
    {
     "name": "stderr",
     "output_type": "stream",
     "text": [
      "  8%|▊         | 19/245 [00:00<00:01, 186.07it/s]"
     ]
    },
    {
     "name": "stdout",
     "output_type": "stream",
     "text": [
      "Processing:  011 - Ricksy Business.txt\n"
     ]
    },
    {
     "name": "stderr",
     "output_type": "stream",
     "text": [
      "100%|██████████| 245/245 [00:01<00:00, 240.02it/s]\n",
      " 10%|█         | 27/262 [00:00<00:00, 263.67it/s]"
     ]
    },
    {
     "name": "stdout",
     "output_type": "stream",
     "text": [
      "Processing:  021 - The Wedding Squanchers.txt\n"
     ]
    },
    {
     "name": "stderr",
     "output_type": "stream",
     "text": [
      "100%|██████████| 262/262 [00:01<00:00, 222.74it/s]\n",
      "  7%|▋         | 23/319 [00:00<00:01, 229.93it/s]"
     ]
    },
    {
     "name": "stdout",
     "output_type": "stream",
     "text": [
      "Processing:  015 - Total Rickall.txt\n"
     ]
    },
    {
     "name": "stderr",
     "output_type": "stream",
     "text": [
      "100%|██████████| 319/319 [00:01<00:00, 272.75it/s]\n",
      "  6%|▌         | 21/347 [00:00<00:01, 204.25it/s]"
     ]
    },
    {
     "name": "stdout",
     "output_type": "stream",
     "text": [
      "Processing:  020 - Look Who's Purging Now.txt\n"
     ]
    },
    {
     "name": "stderr",
     "output_type": "stream",
     "text": [
      "100%|██████████| 347/347 [00:01<00:00, 221.85it/s]\n",
      "  7%|▋         | 16/224 [00:00<00:01, 157.91it/s]"
     ]
    },
    {
     "name": "stdout",
     "output_type": "stream",
     "text": [
      "Processing:  029 - Morty's Mind Blowers.txt\n"
     ]
    },
    {
     "name": "stderr",
     "output_type": "stream",
     "text": [
      "100%|██████████| 224/224 [00:01<00:00, 178.76it/s]\n",
      "  7%|▋         | 19/287 [00:00<00:01, 181.80it/s]"
     ]
    },
    {
     "name": "stdout",
     "output_type": "stream",
     "text": [
      "Processing:  001 - Pilot.txt\n"
     ]
    },
    {
     "name": "stderr",
     "output_type": "stream",
     "text": [
      "100%|██████████| 287/287 [00:01<00:00, 194.81it/s]\n",
      "  7%|▋         | 23/340 [00:00<00:01, 227.99it/s]"
     ]
    },
    {
     "name": "stdout",
     "output_type": "stream",
     "text": [
      "Processing:  010 - Close Rick-counters of the Rick Kind.txt\n"
     ]
    },
    {
     "name": "stderr",
     "output_type": "stream",
     "text": [
      "100%|██████████| 340/340 [00:01<00:00, 301.74it/s]\n",
      "  5%|▌         | 15/287 [00:00<00:01, 143.89it/s]"
     ]
    },
    {
     "name": "stdout",
     "output_type": "stream",
     "text": [
      "Processing:  026 - The Whirly Dirly Conspiracy.txt\n"
     ]
    },
    {
     "name": "stderr",
     "output_type": "stream",
     "text": [
      "100%|██████████| 287/287 [00:01<00:00, 210.18it/s]\n",
      "  7%|▋         | 26/358 [00:00<00:01, 257.72it/s]"
     ]
    },
    {
     "name": "stdout",
     "output_type": "stream",
     "text": [
      "Processing:  002 - Lawnmower Dog.txt\n"
     ]
    },
    {
     "name": "stderr",
     "output_type": "stream",
     "text": [
      "100%|██████████| 358/358 [00:01<00:00, 317.60it/s]\n",
      " 12%|█▏        | 51/411 [00:00<00:00, 500.64it/s]"
     ]
    },
    {
     "name": "stdout",
     "output_type": "stream",
     "text": [
      "Processing:  016 - Get Schwifty.txt\n"
     ]
    },
    {
     "name": "stderr",
     "output_type": "stream",
     "text": [
      "100%|██████████| 411/411 [00:00<00:00, 512.51it/s]\n",
      "  9%|▊         | 20/235 [00:00<00:01, 190.43it/s]"
     ]
    },
    {
     "name": "stdout",
     "output_type": "stream",
     "text": [
      "Processing:  024 - Pickle Rick.txt\n"
     ]
    },
    {
     "name": "stderr",
     "output_type": "stream",
     "text": [
      "100%|██████████| 235/235 [00:00<00:00, 284.64it/s]\n",
      "  8%|▊         | 31/365 [00:00<00:01, 294.28it/s]"
     ]
    },
    {
     "name": "stdout",
     "output_type": "stream",
     "text": [
      "Processing:  022 - The Rickshank Redemption.txt\n"
     ]
    },
    {
     "name": "stderr",
     "output_type": "stream",
     "text": [
      "100%|██████████| 365/365 [00:01<00:00, 306.64it/s]\n",
      "  8%|▊         | 43/559 [00:00<00:01, 426.70it/s]"
     ]
    },
    {
     "name": "stdout",
     "output_type": "stream",
     "text": [
      "Processing:  007 - Raising Gazorpazorp.txt\n"
     ]
    },
    {
     "name": "stderr",
     "output_type": "stream",
     "text": [
      "100%|██████████| 559/559 [00:00<00:00, 716.23it/s]\n",
      "  6%|▌         | 15/270 [00:00<00:01, 147.33it/s]"
     ]
    },
    {
     "name": "stdout",
     "output_type": "stream",
     "text": [
      "Processing:  018 - Big Trouble In Little Sanchez.txt\n"
     ]
    },
    {
     "name": "stderr",
     "output_type": "stream",
     "text": [
      "100%|██████████| 270/270 [00:01<00:00, 262.01it/s]\n",
      " 11%|█         | 36/337 [00:00<00:00, 345.86it/s]"
     ]
    },
    {
     "name": "stdout",
     "output_type": "stream",
     "text": [
      "Processing:  014 - Auto Erotic Assimilation.txt\n"
     ]
    },
    {
     "name": "stderr",
     "output_type": "stream",
     "text": [
      "100%|██████████| 337/337 [00:01<00:00, 224.67it/s]\n",
      "  6%|▌         | 20/323 [00:00<00:01, 199.19it/s]"
     ]
    },
    {
     "name": "stdout",
     "output_type": "stream",
     "text": [
      "Processing:  030 - The ABCs of Beth.txt\n"
     ]
    },
    {
     "name": "stderr",
     "output_type": "stream",
     "text": [
      "100%|██████████| 323/323 [00:01<00:00, 220.94it/s]\n",
      " 32%|███▏      | 36/113 [00:00<00:00, 348.62it/s]"
     ]
    },
    {
     "name": "stdout",
     "output_type": "stream",
     "text": [
      "Processing:  006 - Rick Potion 9.txt\n"
     ]
    },
    {
     "name": "stderr",
     "output_type": "stream",
     "text": [
      "100%|██████████| 113/113 [00:00<00:00, 329.82it/s]\n",
      "  6%|▌         | 24/432 [00:00<00:01, 236.91it/s]"
     ]
    },
    {
     "name": "stdout",
     "output_type": "stream",
     "text": [
      "Processing:  008 - Rixty Minutes.txt\n"
     ]
    },
    {
     "name": "stderr",
     "output_type": "stream",
     "text": [
      "100%|██████████| 432/432 [00:00<00:00, 1403.26it/s]\n",
      "  6%|▌         | 25/444 [00:00<00:01, 249.46it/s]"
     ]
    },
    {
     "name": "stdout",
     "output_type": "stream",
     "text": [
      "Processing:  003 - Anatomy Park.txt\n"
     ]
    },
    {
     "name": "stderr",
     "output_type": "stream",
     "text": [
      "100%|██████████| 444/444 [00:00<00:00, 467.78it/s]\n",
      "  8%|▊         | 30/378 [00:00<00:01, 296.04it/s]"
     ]
    },
    {
     "name": "stdout",
     "output_type": "stream",
     "text": [
      "Processing:  009 - Something Ricked This Way Comes.txt\n"
     ]
    },
    {
     "name": "stderr",
     "output_type": "stream",
     "text": [
      "100%|██████████| 378/378 [00:01<00:00, 307.72it/s]\n",
      "  6%|▌         | 22/377 [00:00<00:01, 207.65it/s]"
     ]
    },
    {
     "name": "stdout",
     "output_type": "stream",
     "text": [
      "Processing:  013 - Mortynight Run.txt\n"
     ]
    },
    {
     "name": "stderr",
     "output_type": "stream",
     "text": [
      "100%|██████████| 377/377 [00:00<00:00, 377.09it/s]\n",
      "  9%|▊         | 28/321 [00:00<00:01, 264.24it/s]"
     ]
    },
    {
     "name": "stdout",
     "output_type": "stream",
     "text": [
      "Processing:  005 - Meeseeks and Destroy.txt\n"
     ]
    },
    {
     "name": "stderr",
     "output_type": "stream",
     "text": [
      "100%|██████████| 321/321 [00:01<00:00, 307.88it/s]\n",
      "  7%|▋         | 21/295 [00:00<00:01, 208.03it/s]"
     ]
    },
    {
     "name": "stdout",
     "output_type": "stream",
     "text": [
      "Processing:  004 - M. Night Shaym-Aliens!.txt\n"
     ]
    },
    {
     "name": "stderr",
     "output_type": "stream",
     "text": [
      "100%|██████████| 295/295 [00:01<00:00, 279.99it/s]\n",
      "  5%|▌         | 20/376 [00:00<00:01, 194.73it/s]"
     ]
    },
    {
     "name": "stdout",
     "output_type": "stream",
     "text": [
      "Processing:  023 - Rickmancing the Stone.txt\n"
     ]
    },
    {
     "name": "stderr",
     "output_type": "stream",
     "text": [
      "100%|██████████| 376/376 [00:01<00:00, 309.23it/s]\n",
      "  5%|▌         | 22/411 [00:00<00:01, 217.76it/s]"
     ]
    },
    {
     "name": "stdout",
     "output_type": "stream",
     "text": [
      "Processing:  012 - A Rickle in Time.txt\n"
     ]
    },
    {
     "name": "stderr",
     "output_type": "stream",
     "text": [
      "100%|██████████| 411/411 [00:01<00:00, 332.93it/s]\n"
     ]
    }
   ],
   "source": [
    "files = os.listdir(\"./parsed\")\n",
    "for filename in files:\n",
    "    print('Processing: ', filename)\n",
    "    lines = 0\n",
    "    with open(\"./parsed/\" + filename, \"r\") as f:             \n",
    "        for line in f:            \n",
    "            lines += 1\n",
    "            \n",
    "    with open(\"./parsed/\" + filename, \"r\") as f:                    \n",
    "        index = 0\n",
    "        for line in tqdm(f, total=lines): \n",
    "            if stripPersonnas == True:\n",
    "                find = re.search(r\"^([a-zA-Z][a-zA-Z \\.]+).*\\:(.*)\", line) \n",
    "            else:\n",
    "                find = re.search(r\"^([a-z][a-z0-9 \\(\\)]+):(.*)\", line)\n",
    "\n",
    "            if find:\n",
    "                name = find.group(1).strip()\n",
    "                text = find.group(2).strip()\n",
    "                if name not in ignore:\n",
    "                    try:\n",
    "                        actualName = replace[name]\n",
    "                    except:\n",
    "                        actualName = name\n",
    "                    \n",
    "                    parseLine(actualName, text, filename[6:len(filename)-4], int(index * convTimelineCell / lines))\n",
    "            index += 1"
   ]
  },
  {
   "cell_type": "code",
   "execution_count": 87,
   "metadata": {},
   "outputs": [
    {
     "data": {
      "image/png": "[encoded data removed]",
      "text/plain": [
       "<Figure size 1008x360 with 1 Axes>"
      ]
     },
     "metadata": {
      "needs_background": "light"
     },
     "output_type": "display_data"
    }
   ],
   "source": [
    "# toRemove = []\n",
    "# characters = data['characters']\n",
    "# data['allCharacterNames'] = set(characters.keys())\n",
    "# for key in characters.keys():\n",
    "#     count = characters[key]['linesCount']\n",
    "#     if count < minLines:\n",
    "#         toRemove.append(key)\n",
    "        \n",
    "# for keyToRemove in toRemove:\n",
    "#     del characters[keyToRemove]\n",
    "    \n",
    "# print(characters.keys())\n",
    "#pd.DataFrame(data['characters'], columns=['words','count']).set_index('words').plot(legend = False, kind='bar', title=key);\n",
    "# pd.DataFrame(data['characters']).set_index('linesCount').plot(legend = False, kind='bar', title=key);\n",
    "#pd.DataFrame.from_dict(data['characters'], orient='index').plot(y='linesCount', legend = False, kind='bar');\n",
    "talkDf = pd.DataFrame.from_dict(data['characters'], orient='index').sort_values(by=['linesCount'], ascending = False)[:10].plot(y='linesCount', legend = False, kind='bar', figsize=(14,5))\n"
   ]
  },
  {
   "cell_type": "code",
   "execution_count": 53,
   "metadata": {},
   "outputs": [
    {
     "name": "stdout",
     "output_type": "stream",
     "text": [
      "jerry\n",
      "Counter({'taddi': 3, 'meeseeks': 3, 'r2d2s': 2, 'dirly': 2, 'scroopy': 2, 'noopers': 2, 'cervine': 2, \"kitchenyou're\": 1, 'deviceit': 1, 'birdperson': 1, 'squanch': 1, 'rick—': 1, 'c’mere': 1, 'telepod': 1, 'uhnot': 1, 'smiggle': 1, 'maybewhat': 1, \"wasn'tso\": 1, 'hawkinson': 1, 'gargler': 1, 'krootabulan': 1, 'krootabulon': 1, 'varrix': 1, 'cheetara': 1, 'plutonians': 1, 'don’t': 1, 'marklevitz': 1, 'you—': 1})\n",
      "summer\n",
      "Counter({'taddi': 2, 'palicky': 2, 'switchooh': 1, 'offscreenno': 1, 'birdperson': 1, 'squanchy': 1, \"family'd\": 1, 'tinkes': 1, 'poopybutthole': 1, 'gazorpazorp': 1, 'superknowledge': 1, 'phisosophers': 1, 'gagoo': 1, 'froopyland': 1, 'hymencholo': 1, 'zuckerberging': 1, 'carpin': 1})\n",
      "beth\n",
      "Counter({'squanch': 3, 'meeseeks': 3, 'froopy': 2, 'devicei': 1, 'wineboxi': 1, 'poopybutthole': 1, 'taddi': 1, 'andteenage': 1, 'thatoh': 1, 'barkered': 1, 'i‘m': 1, 'youbadass': 1, 'froopyland': 1, 'isokay': 1, 'beenam': 1})\n",
      "rick\n",
      "Counter({'birdperson': 6, 'froopyland': 5, 'pencilvester': 4, 'lubba': 4, 'dirly': 4, 'poopybutthole': 3, 'venzenulon': 3, 'mortys': 3, 'goldenfold': 3, 'meeseeks': 3, 'shmeckels': 3, 'zigerions': 3, 'schmla': 2, 'gazorpazorp': 2, 'squanch': 2, 'squanchy': 2, 'this’ll': 2, 'rickest': 2, 'incepting': 2, 'cromulon': 2, 'goin’': 2, 'krombopulos': 2, 'chitz': 2, 'gromflomites': 2, 'tvsummer': 1, 'channela': 1, 'channelletterman': 1, 'channeli': 1, 'channelinfinite': 1, 'channelnow': 1, 'channelwalking': 1, \"offscreeni'm\": 1, 'cookiesinteresting': 1, 'channelrelax': 1, 'gazorpazorpfield': 1, 'channelpretty': 1, 'glapflap': 1, 'gromflamites': 1, 'gloppydrop': 1, 'plimplom': 1, '–look': 1, 'hamurai': 1, 'shlippedy': 1, 'taddi': 1, 'arthrisha': 1, 'purgenol': 1, 'moonspiracy': 1, 'granitor': 1, 'floopians': 1, 'orcool': 1, 'don’tall': 1, 'knowoh': 1, 'towhat': 1, 'unflipping': 1, 'twouh': 1, 'whath': 1, 'had—': 1, 'to—': 1, 'she—': 1, 'mo—': 1, 'be—': 1, 'they—': 1, 'mortyand': 1, 'rickandmortyadventures': 1, 'rickandmorty': 1, 'orty': 1, 'diculous': 1, 'phonesticks': 1, 'rickdiculous': 1, 'mortyest': 1, 'wubbalubbadubdub': 1, 'pbht': 1, 'shnoopy': 1, 'shitgood': 1, 'gibble': 1, 'shmooglite': 1, 'meyou': 1, 'inceptors': 1, 'inceptor': 1, 'yeahtake': 1, 'pantiestake': 1, 'floorhey': 1, 'offi': 1, 'schwifty': 1, 'brainalyzer': 1, 'defraculate': 1, 'defraculator': 1, 'belushis': 1, 'gazorpians': 1, 'gazorpian': 1, 'assworld': 1, 'nuptia': 1, 'mortyit': 1, 'songoh': 1, 'korblocks': 1, 'amphetetron': 1, 'velocitinis': 1, 'hiveminds': 1, 'torelax': 1, 'froopy': 1, 'butthey': 1, 'defibulizer': 1, 'alco—': 1, '—holism': 1, 'c’mon': 1, 'doppa': 1, 'doopa': 1, 'uncurse': 1, 'y’know': 1, 'someone’ll': 1, 'lightminutes': 1, 'flurbos': 1, 'obavradian': 1, 'moonmen': 1, 'gearsticles': 1, 'gasablanca': 1, 'nothin’': 1, 'dingdongs': 1, \"havin'\": 1, 'fleeseeks': 1, 'gobba': 1, 'soph—': 1, '—isticated': 1, 'nanobotic': 1, 'zigerion': 1, 'malotes': 1, 'oove': 1, 'coolsies': 1, 'workingoh': 1, \"goin'\": 1, \"iti'm\": 1, \"i've\": 1})\n",
      "morty\n",
      "Counter({'mortys': 6, 'goldenfold': 4, 'birdperson': 3, 'zanthonite': 2, 'arthrisha': 2, 'i’m': 2, 'krootabulon': 2, 'krombopulos': 2, 'gazorpazorpfield': 1, \"doin'\": 1, 'justhow': 1, 'floopian': 1, 'evenyour': 1, 'voltamatron': 1, 'yourohh': 1, 'iswho': 1, \"i'm\": 1, 'hnngh': 1, '77245385': 1, 'mortyest': 1, 'zies': 1, 'shitis': 1, 'flabanabba': 1, 's’more': 1, 'schwifty': 1, \"yeahyou're\": 1, 'froopy': 1, 'krootabulans': 1, 'chaimuntolo': 1, 'ugghhumwell': 1, 'doin’': 1, 'somethin’': 1, 'plutoquakes': 1, 'jerryboree': 1, 'bloogies': 1, 'uhhokay': 1, 'rickno': 1, 'colorkian': 1, 'armothy': 1, 'oohi': 1, 'ityes': 1})\n"
     ]
    }
   ],
   "source": [
    "\n",
    "for key in main[:5]:\n",
    "    try:\n",
    "        character = data['characters'][key]\n",
    "        full_text = character['fullText']\n",
    "        doc = nlp(full_text)\n",
    "        non_words = [token.text for token in doc if token.has_vector == False and len(token.text.strip()) > 2]\n",
    "        nw_freq = Counter(non_words)\n",
    "        print(key)\n",
    "        print(nw_freq)\n",
    "    except KeyError:\n",
    "        print('err')\n",
    "        pass"
   ]
  },
  {
   "cell_type": "code",
   "execution_count": 7,
   "metadata": {},
   "outputs": [
    {
     "name": "stdout",
     "output_type": "stream",
     "text": [
      "-------------------\n",
      "jerry\n",
      "[('morty', 24), ('planet', 23), ('guys', 20), ('son', 19), ('thing', 18), ('summer', 18), ('time', 18), ('family', 16), ('father', 16), ('rick', 13), ('jerry', 12), ('house', 11), ('science', 11), ('way', 10), ('life', 8), ('honey', 8), ('wife', 8), ('people', 7), ('fun', 7), ('hell', 7), ('gary', 7), ('guy', 7), ('christmas', 7), ('kids', 7), ('things', 7), ('pluto', 7), ('idea', 6), ('school', 6), ('friend', 6), ('head', 6), ('dad', 6), ('man', 6), ('apples', 6), ('deer', 6), ('tv', 5), ('device', 5), ('job', 5), ('love', 5), ('milk', 5), ('home', 5), ('face', 5), ('kind', 5), ('dog', 5), ('mom', 5), ('cloud', 4), ('atlas', 4), ('tru', 4), ('surgeon', 4), ('game', 4), ('movie', 4)]\n",
      "-------------------\n",
      "summer\n",
      "[('dad', 39), ('grandpa', 39), ('morty', 25), ('rick', 19), ('mom', 12), ('guys', 11), ('people', 8), ('head', 7), ('time', 7), ('unity', 7), ('drum', 7), ('pants', 6), ('school', 6), ('place', 6), ('parents', 5), ('thing', 5), ('family', 5), ('god', 5), ('world', 4), ('life', 4), ('brother', 4), ('friend', 4), ('day', 4), ('job', 4), ('phone', 4), ('way', 4), ('love', 4), ('fact', 4), ('monster', 4), ('grampa', 4), ('gun', 3), ('deal', 3), ('mind', 3), ('food', 3), ('summer', 3), ('snuffles', 3), ('man', 3), ('dinner', 3), ('tonight', 3), ('prison', 3), ('body', 3), ('cloud', 2), ('atlas', 2), ('yahtzee', 2), ('purpose', 2), ('mr', 2), ('lot', 2), ('pictures', 2), ('friends', 2), ('lady', 2)]\n",
      "-------------------\n",
      "beth\n",
      "[('jerry', 59), ('dad', 47), ('morty', 26), ('summer', 17), ('father', 15), ('time', 12), ('life', 12), ('family', 12), ('tommy', 12), ('kids', 10), ('hell', 9), ('people', 8), ('daughter', 8), ('thing', 7), ('guys', 7), ('school', 7), ('deer', 7), ('work', 6), ('stuff', 5), ('horse', 5), ('surgeon', 5), ('crap', 5), ('job', 5), ('world', 5), ('lives', 4), ('wedding', 4), ('mom', 4), ('son', 4), ('lot', 3), ('photos', 3), ('morning', 3), ('reason', 3), ('door', 3), ('heart', 3), ('home', 3), ('way', 3), ('girl', 3), ('person', 3), ('pickle', 3), ('therapy', 3), ('mistake', 3), ('conversation', 3), ('ego', 3), ('bitch', 3), ('meeseeks', 3), ('narcissism', 2), ('sighs', 2), ('surgery', 2), ('dreams', 2), ('head', 2)]\n",
      "-------------------\n",
      "rick\n",
      "[('morty', 526), ('jerry', 91), ('time', 76), ('summer', 47), ('thing', 39), ('guys', 34), ('people', 32), ('way', 30), ('life', 30), ('man', 28), ('guy', 27), ('world', 26), ('rick', 26), ('things', 22), ('shit', 21), ('stuff', 20), ('job', 19), ('planet', 19), ('lot', 19), ('gun', 19), ('everybody', 18), ('unity', 18), ('point', 17), ('earth', 17), ('hell', 17), ('bitch', 17), ('ricks', 17), ('bunch', 16), ('day', 16), ('family', 15), ('adventure', 14), ('place', 14), ('grandpa', 14), ('mind', 14), ('seeds', 14), ('t', 13), ('years', 13), ('baby', 13), ('pants', 13), ('movie', 12), ('crap', 12), ('universe', 12), ('ice', 12), ('space', 12), ('idea', 12), ('home', 12), ('kids', 12), ('piece', 11), ('head', 11), ('kind', 11)]\n",
      "-------------------\n",
      "morty\n",
      "[('dad', 45), ('summer', 42), ('rick', 38), ('morty', 22), ('thing', 21), ('mom', 20), ('time', 19), ('man', 18), ('hell', 16), ('people', 16), ('place', 14), ('stuff', 13), ('sister', 12), ('crap', 11), ('life', 11), ('gun', 11), ('t', 11), ('things', 10), ('lot', 9), ('adventure', 9), ('family', 8), ('way', 8), ('planet', 8), ('world', 7), ('everybody', 7), ('guys', 7), ('car', 7), ('grandpa', 7), ('monster', 7), ('ricks', 7), ('c', 7), ('minute', 6), ('thanks', 6), ('memories', 6), ('boy', 6), ('guy', 6), ('jessica', 6), ('day', 5), ('w', 5), ('adventures', 5), ('point', 5), ('son', 5), ('bitch', 5), ('problem', 5), ('mind', 5), ('sir', 5), ('earth', 5), ('head', 5), ('ones', 5), ('idea', 5)]\n"
     ]
    }
   ],
   "source": [
    "\n",
    "for key in main[:5]:\n",
    "    try:\n",
    "        character = data['characters'][key]\n",
    "        full_text = character['fullText']\n",
    "        doc = nlp(full_text)\n",
    "        nouns = [token.text for token in doc if token.is_stop != True and token.is_punct != True and token.pos_ == \"NOUN\"]\n",
    "        word_freq = Counter(nouns)\n",
    "        character['common_words'] = word_freq.most_common(50)    \n",
    "        print('-'.join(['-']*10))\n",
    "        print(key)\n",
    "        print(character['common_words'])\n",
    "    except KeyError:\n",
    "        \n",
    "        pass"
   ]
  },
  {
   "cell_type": "code",
   "execution_count": 34,
   "metadata": {},
   "outputs": [
    {
     "data": {
      "image/png": "[encoded data removed]",
      "text/plain": [
       "<Figure size 432x288 with 1 Axes>"
      ]
     },
     "metadata": {
      "needs_background": "light"
     },
     "output_type": "display_data"
    },
    {
     "data": {
      "image/png": "[encoded data removed]",
      "text/plain": [
       "<Figure size 432x288 with 1 Axes>"
      ]
     },
     "metadata": {
      "needs_background": "light"
     },
     "output_type": "display_data"
    },
    {
     "data": {
      "image/png": "[encoded data removed]",
      "text/plain": [
       "<Figure size 432x288 with 1 Axes>"
      ]
     },
     "metadata": {
      "needs_background": "light"
     },
     "output_type": "display_data"
    },
    {
     "data": {
      "image/png": "[encoded data removed]",
      "text/plain": [
       "<Figure size 432x288 with 1 Axes>"
      ]
     },
     "metadata": {
      "needs_background": "light"
     },
     "output_type": "display_data"
    },
    {
     "data": {
      "image/png": "[encoded data removed]",
      "text/plain": [
       "<Figure size 432x288 with 1 Axes>"
      ]
     },
     "metadata": {
      "needs_background": "light"
     },
     "output_type": "display_data"
    }
   ],
   "source": [
    "for key in main[:5]:\n",
    "    characterData = data['characters'][key]['common_words'][:10];\n",
    "    pd.DataFrame(characterData, columns=['words','count']).set_index('words').plot(legend = False, kind='bar', title=key);"
   ]
  },
  {
   "cell_type": "code",
   "execution_count": 8,
   "metadata": {},
   "outputs": [
    {
     "data": {
      "text/plain": [
       "'\\nfor key in main:\\n    try:\\n        character = data[\\'characters\\'][key]\\n        full_text = character[\\'fullText\\']\\n        doc = nlp(full_text)\\n        nouns = [token.text for token in doc if token.is_stop != True and token.is_punct != True and token.pos_ == \"NOUN\"]\\n        word_freq = Counter(nouns)\\n        character[\\'common_words\\'] = word_freq.most_common(50)    \\n        print(\\'-\\'.join([\\'-\\']*10))\\n        print(key)\\n        print(character[\\'common_words\\'])\\n    except KeyError:\\n        pass\\n\\nfor key in data[\\'characters\\'].keys():    \\n    character = data[\\'characters\\'][key]\\n    for keyToRemove in keysToRemove:\\n        try:\\n            del character[keyToRemove]\\n        except KeyError:\\n            pass\\n    episodes = character[\\'episodes\\']\\n    \\n    for episode in episodes.keys():\\n        print(episode)\\n        for keyToRemove in keysToRemove:\\n            try:\\n                del character[\\'episodes\\'][episode][keyToRemove]\\n            except KeyError:\\n                pass\\n\\n'"
      ]
     },
     "execution_count": 8,
     "metadata": {},
     "output_type": "execute_result"
    }
   ],
   "source": [
    "\"\"\"\n",
    "for key in main:\n",
    "    try:\n",
    "        character = data['characters'][key]\n",
    "        full_text = character['fullText']\n",
    "        doc = nlp(full_text)\n",
    "        nouns = [token.text for token in doc if token.is_stop != True and token.is_punct != True and token.pos_ == \"NOUN\"]\n",
    "        word_freq = Counter(nouns)\n",
    "        character['common_words'] = word_freq.most_common(50)    \n",
    "        print('-'.join(['-']*10))\n",
    "        print(key)\n",
    "        print(character['common_words'])\n",
    "    except KeyError:\n",
    "        pass\n",
    "\n",
    "for key in data['characters'].keys():    \n",
    "    character = data['characters'][key]\n",
    "    for keyToRemove in keysToRemove:\n",
    "        try:\n",
    "            del character[keyToRemove]\n",
    "        except KeyError:\n",
    "            pass\n",
    "    episodes = character['episodes']\n",
    "    \n",
    "    for episode in episodes.keys():\n",
    "        print(episode)\n",
    "        for keyToRemove in keysToRemove:\n",
    "            try:\n",
    "                del character['episodes'][episode][keyToRemove]\n",
    "            except KeyError:\n",
    "                pass\n",
    "\n",
    "\"\"\"\n",
    "    \n",
    "    "
   ]
  },
  {
   "cell_type": "code",
   "execution_count": 9,
   "metadata": {},
   "outputs": [],
   "source": [
    "with open('data.json', 'w') as fp:\n",
    "    json.dump(data, fp)"
   ]
  },
  {
   "cell_type": "code",
   "execution_count": 10,
   "metadata": {},
   "outputs": [
    {
     "data": {
      "text/plain": [
       "dict_keys(['bachelor', 'jerry', 'summer', 'beth', 'rick', 'morty', 'corn man', 'glenn', 'letterman', 'woman', 'announcer', 'shmlony', 'host in trenchcoat', 'cop', 'killer', 'judge', 'man', 'ants', 'mr. sneezy', 'fake doors salesman', 'gazorpazorpfield', 'jon', 'spokesman', 'suspender guy', 'garbageman', 'spokeman', 'trunkperson', 'new yorker', 'mr. tophat jones', 'unmuscular michael', 'police cheif', 'regular legs', 'baby legs', 'police chief', 'criminal', 'business man', 'news anchor', 'courier flap', 'birdperson', 'tammy', 'squanchy', 'pat', 'bartender', 'all', 'cyborg photographer', 'diane', 'computer', 'agent', 'officer', 'customs', 'prisoner', 'mr. poopybutthole', 'uncle steve', 'poopybutthole', 'nicky', 'nazi', 'mr. beauregard', 'frankenstein', 'sleepy gary', 'pencilvester', 'tinkles', 'gary', 'hamurai', 'amish cyborg', 'reverse giraffe', 'ghost in a jar', 'mrs. refrigerator', 'reverse', 'duck with muscles', 'mrs refrigerator', 'cross teddy bear', 'doctor', 'farmer', 'general store owner', 'arthirisha', 'lighthouse keeper', 'pursuers', 'hick', 'baker', 'principal', 'mr. lunas', 'marine', 'lady scientist', 'dude scientist', 'official', 'zikzak', 'alien king', 'squirrels', 'tv', 'helicopter passenger', 'robot voice', 'mr. goldenfold', 'class', 'jessica', 'frank', 'davin', 'tom', 'principal vagina', 'alien', 'gromflomite', 'rick salesman', 'morty doll', 'rick council', 'rick crowd', 'crowd rick', 'armed rick', 'pizza', 'phone', 'sofa', 'all ricks', 'chair waiter', 'phone waiter', 'doofus rick', 'evil rick', 'evil morty', 'lobster alien', 'religious morty', 'hammer morty', 'all mortys', 'council rick', 'shnoopy bloopers', 'three', 'risotto groupon', 'restaurant employee', 'bar', 'kid playing in resort', 'gibble snake', 'customer service', 'gene', 'security', 'assassin', 'captain', 'computer voice', 'tricia', 'ethan', 'together', 'mrs. pancakes', 'commercial announcer', 'mr. pancakes', 'mr.goldenfold', 'snuffles', 'plane passengers', 'plane passenger', 'giant frog woman', 'centaur', 'scary terry', 'little girl', 'scary melissa', 'monster teacher', 'reporter', 'dog', 'bill', 'dr. dog', 'accountant dog', 'scary glenn', 'terry', 'jim', 'giant head', 'president', 'simon', 'nathan', 'guards', 'everyone', 'aide', 'father bob', 'jew', 'pastor bob', 'jump master', 'rick and morty', 'cromulon', 'greebybobe', 'arbolian meterososian', 'rick and ice', 'ice', 'jerry and beth', 'balloon man', 'magnesium', 'purple', 'water', 'magma', 'pickle rick', 'dr. wong', 'agency director', 'jaguar', 'concerto', 'cornvelious daniel', 'conroy', 'mcdonald', 'alternate rick', 'young rick', 'guard rick', 'seal team rick leader', 'braided rick', 'speaker system', 'worker rick', 'commander in chief rick', 'riq iv', 'council of ricks', 'teleportation worker rick', 'teleporter worker rick', 'kidnapped morty', 'random rick', 'hammerhead morty', 'quantum rick', 'zeta alpha rick', 'ricktiminus sancheziminius', 'federation worker', 'galactic federation president', 'federation commander', 'female office employee', 'phoenixperson', 'interviewer', 'mortimer smith jr', 'glaxo slimslom', 'tiny rick', 'toby', 'party', 'beth monster', 'crowd', 'god beth', 'vampire', 'master', 'morty and summer', 'female alien', 'male alien', 'male alien with glasses', 'all six aliens together', 'unity', 'beta', 'blim blam', 'steven phillips', 'ron benson', 'daryl jefferson', 'alien man', 'rioter', 'beth and jerry', 'carla johnson', 'kiara', 'lead froopy creature', 'offspring creature', 'tommy', 'tiny beth', 'froopy voice', 'little offspring', 'pink sentient switchblade', 'froopies', 'math teacher', 'bully', 'varrix', 'trandor', 'carmox', 'michael', 'brad', 'band vocalist', 'johnny depp', 'hamster news anchor', 'female hamster', 'male hamster', 'ruben', 'leonard', 'joyce', 'jacob', 'automated voice', 'poncho', 'dr. bloom', 'roger', 'alexander', 'annie', 'animatronics', 'animatronic ruben', 'eric', 'alejandro', 'butter robot', 'goldenfold', 'needful', 'rick and needful', 'jerry and morty', 'flippynips', 'vagina', 'tate', 'baby', 'hostess', 'host', 'scroopy noopers', 'customer', 'employee', 'plutonian woman', 'plutonian man', 'plutonians', 'policeman', 'pajama jerry', 'underpants jerry', 'tuxedo jerry', 'receptionist', 'krombopulos michael', 'roy', 'teacher', 'voice', 'pink', 'other jerry', 'daycare beth', 'jerrys', 'another jerry', 'ship', 'fart', 'gearhead', 'random jerry', 'gear anchor', 'gear policeman', 'bearded jerry', 'tank', 'buzzcut jerry', 'garblovian', 'other jerrys', 'paul', 'various jerrys', 'other rick', 'other morty', 'another rick', 'ricks', 'meeseeks', 'villager', 'principal gene v.', 'waiter', 'giant', 'giant woman', 'detective', 'giant lawyer', 'note', 'waitress', 'slippery', 'mr. booby buyer', 'waitess', 'new meeseek', 'mr. jelly bean', 'card player', 'samantha', 'all meeseeks', 'owner', 'the first villager', 'student', 'zigerion', 'prince nebulon', 'kevin', 'stu', 'radio', 'paramedic', 'mr. marklevitz', 'old man', 'mailman', 'simulation beth', 'cynthia', 'wind', 'mohawk guy', 'death stalker', 'colossus', 'hemorrhage', 'lunch server', 'eli', 'blue footprint guy', 'soldier', 'leash man', 'mechanical summer', 'mechanical morty', 'ms', 'slaveowner', 'mechanical rick', 'alternate morty', 'alternate summer', 'all summers', 'all mortys and summer', 'vet', 'hunter', 'all mortys and all summers', 'lawyer', 'all rick phones', 'testicle monster a', 'summers', 'cold stone employee', 'testicle monster b', 'albert einstein'])"
      ]
     },
     "execution_count": 10,
     "metadata": {},
     "output_type": "execute_result"
    }
   ],
   "source": [
    "data['characters'].keys()"
   ]
  },
  {
   "cell_type": "code",
   "execution_count": null,
   "metadata": {},
   "outputs": [],
   "source": []
  }
 ],
 "metadata": {
  "kernelspec": {
   "display_name": "Python 3",
   "language": "python",
   "name": "python3"
  },
  "language_info": {
   "codemirror_mode": {
    "name": "ipython",
    "version": 3
   },
   "file_extension": ".py",
   "mimetype": "text/x-python",
   "name": "python",
   "nbconvert_exporter": "python",
   "pygments_lexer": "ipython3",
   "version": "3.7.0"
  }
 },
 "nbformat": 4,
 "nbformat_minor": 2
}
