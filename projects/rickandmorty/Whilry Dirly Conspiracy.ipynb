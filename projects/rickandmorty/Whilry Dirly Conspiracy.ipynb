{
 "cells": [
  {
   "cell_type": "code",
   "execution_count": 1,
   "metadata": {},
   "outputs": [],
   "source": [
    "import os\n",
    "import re\n",
    "import json\n",
    "import pandas as pd\n",
    "from collections import Counter\n",
    "import spacy\n",
    "from spacy.tokens import Doc\n",
    "\n",
    "from nltk.sentiment.vader import SentimentIntensityAnalyzer\n",
    "from nltk.corpus import stopwords\n",
    "from nltk.corpus import sentiwordnet as swn\n",
    "\n",
    "sentiment_analyzer = SentimentIntensityAnalyzer()\n",
    "def polarity_scores(doc):\n",
    "    return sentiment_analyzer.polarity_scores(doc.text)\n",
    "Doc.set_extension('polarity_scores', getter=polarity_scores)\n",
    "nlp = spacy.load(\"en_core_web_lg\")    \n",
    "\n",
    "from tqdm import tqdm\n"
   ]
  },
  {
   "cell_type": "code",
   "execution_count": 2,
   "metadata": {},
   "outputs": [],
   "source": [
    "convTimelineCell = 42\n",
    "minLines = 50\n",
    "stripPersonnas = True\n",
    "main = ['jerry', 'summer', 'beth', 'rick', 'morty', 'pickle rick', 'unity']\n",
    "keysToRemove = ['fullText', 'pron', 'lines']\n",
    "replace = {\n",
    "    'rick sanches': 'rick',\n",
    "    'drunk rick': 'rick',\n",
    "    'morty smith': 'morty',\n",
    "    'gromfomite': 'gromflomite',\n",
    "    'other gromflomite': 'gromflomite',\n",
    "    'gromflomite captain': 'gromflomite',\n",
    "    'gromflomite worker': 'gromflomite',\n",
    "    'gromflomite guard': 'gromflomite',\n",
    "    'gromflomite office employee': 'gromflomite',\n",
    "    'rick salseman': 'rick salesman',\n",
    "    'armed ricks': 'armed rick',\n",
    "    'all religious mortys': 'religious morty',\n",
    "    'little tommy': 'tommy',\n",
    "    'meeseek': 'meeseeks',\n",
    "    'all the meeseeks': 'meeseeks',\n",
    "    'all other meeseeks': 'meeseeks',\n",
    "    'mailmen': 'mailman',\n",
    "    'gerry': 'jerry'\n",
    "    \n",
    "}\n",
    "ignore = [\n",
    "    'a mexican armada shows up. with weapons made from two', \n",
    "    'pa system', \n",
    "    'all classmates except morty',\n",
    "    'another voice',\n",
    "    'sexualized s',\n",
    "    'both']\n",
    "\n",
    "#main = ['beth']\n",
    "data = {\n",
    "    'characters': {},\n",
    "}"
   ]
  },
  {
   "cell_type": "code",
   "execution_count": 3,
   "metadata": {},
   "outputs": [],
   "source": [
    "\n",
    " \n",
    "def do_nlp(character, line, file, section):\n",
    "    non_actions = re.sub(r'\\[.*\\]|\\(.*\\)', '', line)\n",
    "    non_actions = re.sub(r'[!\\.\\?\\;\\\"\\-\\*]', ' ', non_actions)\n",
    "    non_actions = re.sub(r'([a-z])\\1{2,}',r'\\1', non_actions)\n",
    "\n",
    "    text = '';\n",
    "    \n",
    "    doc = nlp(non_actions)\n",
    "    \n",
    "    for token in doc:\n",
    "        if (token.lemma_ != '-PRON-'):        \n",
    "            text = text + token.lemma_ + ' '        \n",
    "    \n",
    "    character['fullText'] += non_actions    \n",
    "    score = doc._.polarity_scores['compound']\n",
    "\n",
    "    actualVal =  character['sentiment'][section] if character['sentiment'][section] != False else 0\n",
    "    character['sentiment'][section] = (actualVal + score) / 2\n",
    "    \n",
    "    actualVal =  character['episodes'][file]['sentiment'][section] if character['episodes'][file]['sentiment'][section] != False else 0\n",
    "    character['episodes'][file]['sentiment'][section] = (actualVal + score) / 2\n",
    "    \n",
    "    if abs(score)>.2:\n",
    "        character['episodes'][file]['sentimentLine'][section] += non_actions;\n",
    "\n",
    "    \n",
    "#     s = flair.data.Sentence(line)\n",
    "#     flair_sentiment.predict(s)\n",
    "    \n",
    "#     try:\n",
    "#         score = s.labels[0].to_dict() \n",
    "#         score = score['confidence'] if score['value'] == 'POSITIVE' else -score['confidence']\n",
    "        \n",
    "#         actualVal =  character['sentiment'][section] if character['sentiment'][section] != False else 0\n",
    "#         character['sentiment'][section] = (actualVal + score) / 2\n",
    "        \n",
    "#         actualVal =  character['episodes'][file]['sentiment'][section] if character['episodes'][file]['sentiment'][section] != False else 0\n",
    "#         character['episodes'][file]['sentiment'][section] = (actualVal + score) / 2\n",
    "#     except:\n",
    "#         pass\n",
    "#         print('Error')"
   ]
  },
  {
   "cell_type": "code",
   "execution_count": 4,
   "metadata": {},
   "outputs": [],
   "source": [
    "def getCharacter(characterName):\n",
    "    characters = data['characters']\n",
    "    try:\n",
    "        character = characters[characterName]\n",
    "    except KeyError:\n",
    "        character = characters[characterName] = {\n",
    "            'linesCount': 0, \n",
    "            'lines': [], \n",
    "            'time': [0] * convTimelineCell, \n",
    "            \n",
    "            'episodes': {},\n",
    "            'pron': {},\n",
    "            'fullText': ''\n",
    "        }\n",
    "        if characterName in main:\n",
    "            character['sentiment'] = ([False] * convTimelineCell)\n",
    "            character['sentimentLine'] = ([''] * convTimelineCell)\n",
    "\n",
    "    return character\n",
    "\n",
    "def parseLine(characterName, line, file, section):\n",
    "    character = getCharacter(characterName)    \n",
    "    character['linesCount'] += 1    \n",
    "    episodes = character['episodes']\n",
    "    \n",
    "    try: \n",
    "        episode = episodes[file]\n",
    "    except:\n",
    "        episode = episodes[file] = {\n",
    "            'linesCount': 0,\n",
    "            'time': [0]*convTimelineCell,\n",
    "            \n",
    "        }\n",
    "        if characterName in main:\n",
    "            episode['sentiment'] = ([False] * convTimelineCell)\n",
    "            episode['sentimentLine'] = ([''] * convTimelineCell)\n",
    "        \n",
    "    character['time'][section] += 1\n",
    "    episode['time'][section] += 1\n",
    "    episode['linesCount'] += 1\n",
    "    \n",
    "    if characterName in main:\n",
    "        do_nlp(character, line, file, section)"
   ]
  },
  {
   "cell_type": "code",
   "execution_count": 5,
   "metadata": {
    "scrolled": false
   },
   "outputs": [
    {
     "name": "stderr",
     "output_type": "stream",
     "text": [
      "  8%|▊         | 19/245 [00:00<00:01, 185.56it/s]"
     ]
    },
    {
     "name": "stdout",
     "output_type": "stream",
     "text": [
      "Processing:  011 - Ricksy Business.txt\n"
     ]
    },
    {
     "name": "stderr",
     "output_type": "stream",
     "text": [
      "100%|██████████| 245/245 [00:01<00:00, 237.93it/s]\n",
      " 10%|█         | 27/262 [00:00<00:00, 260.45it/s]"
     ]
    },
    {
     "name": "stdout",
     "output_type": "stream",
     "text": [
      "Processing:  021 - The Wedding Squanchers.txt\n"
     ]
    },
    {
     "name": "stderr",
     "output_type": "stream",
     "text": [
      "100%|██████████| 262/262 [00:01<00:00, 226.31it/s]\n",
      "  7%|▋         | 23/319 [00:00<00:01, 228.02it/s]"
     ]
    },
    {
     "name": "stdout",
     "output_type": "stream",
     "text": [
      "Processing:  015 - Total Rickall.txt\n"
     ]
    },
    {
     "name": "stderr",
     "output_type": "stream",
     "text": [
      "100%|██████████| 319/319 [00:01<00:00, 276.41it/s]\n",
      "  5%|▌         | 19/347 [00:00<00:01, 187.61it/s]"
     ]
    },
    {
     "name": "stdout",
     "output_type": "stream",
     "text": [
      "Processing:  020 - Look Who's Purging Now.txt\n"
     ]
    },
    {
     "name": "stderr",
     "output_type": "stream",
     "text": [
      "100%|██████████| 347/347 [00:01<00:00, 227.04it/s]\n",
      "  6%|▋         | 14/224 [00:00<00:01, 137.95it/s]"
     ]
    },
    {
     "name": "stdout",
     "output_type": "stream",
     "text": [
      "Processing:  029 - Morty's Mind Blowers.txt\n"
     ]
    },
    {
     "name": "stderr",
     "output_type": "stream",
     "text": [
      "100%|██████████| 224/224 [00:01<00:00, 163.46it/s]\n",
      "  6%|▋         | 18/287 [00:00<00:01, 177.91it/s]"
     ]
    },
    {
     "name": "stdout",
     "output_type": "stream",
     "text": [
      "Processing:  001 - Pilot.txt\n"
     ]
    },
    {
     "name": "stderr",
     "output_type": "stream",
     "text": [
      "100%|██████████| 287/287 [00:01<00:00, 196.86it/s]\n",
      "  7%|▋         | 24/340 [00:00<00:01, 225.64it/s]"
     ]
    },
    {
     "name": "stdout",
     "output_type": "stream",
     "text": [
      "Processing:  010 - Close Rick-counters of the Rick Kind.txt\n"
     ]
    },
    {
     "name": "stderr",
     "output_type": "stream",
     "text": [
      "100%|██████████| 340/340 [00:01<00:00, 311.96it/s]\n",
      "  6%|▌         | 16/287 [00:00<00:01, 151.34it/s]"
     ]
    },
    {
     "name": "stdout",
     "output_type": "stream",
     "text": [
      "Processing:  026 - The Whirly Dirly Conspiracy.txt\n"
     ]
    },
    {
     "name": "stderr",
     "output_type": "stream",
     "text": [
      "100%|██████████| 287/287 [00:01<00:00, 187.47it/s]\n",
      "  7%|▋         | 26/358 [00:00<00:01, 247.80it/s]"
     ]
    },
    {
     "name": "stdout",
     "output_type": "stream",
     "text": [
      "Processing:  002 - Lawnmower Dog.txt\n"
     ]
    },
    {
     "name": "stderr",
     "output_type": "stream",
     "text": [
      "100%|██████████| 358/358 [00:01<00:00, 305.54it/s]\n",
      " 13%|█▎        | 53/411 [00:00<00:00, 516.63it/s]"
     ]
    },
    {
     "name": "stdout",
     "output_type": "stream",
     "text": [
      "Processing:  016 - Get Schwifty.txt\n"
     ]
    },
    {
     "name": "stderr",
     "output_type": "stream",
     "text": [
      "100%|██████████| 411/411 [00:00<00:00, 525.25it/s]\n",
      "  8%|▊         | 19/235 [00:00<00:01, 188.49it/s]"
     ]
    },
    {
     "name": "stdout",
     "output_type": "stream",
     "text": [
      "Processing:  024 - Pickle Rick.txt\n"
     ]
    },
    {
     "name": "stderr",
     "output_type": "stream",
     "text": [
      "100%|██████████| 235/235 [00:00<00:00, 287.52it/s]\n",
      "  8%|▊         | 31/365 [00:00<00:01, 308.99it/s]"
     ]
    },
    {
     "name": "stdout",
     "output_type": "stream",
     "text": [
      "Processing:  022 - The Rickshank Redemption.txt\n"
     ]
    },
    {
     "name": "stderr",
     "output_type": "stream",
     "text": [
      "100%|██████████| 365/365 [00:01<00:00, 313.39it/s]\n",
      "  8%|▊         | 44/559 [00:00<00:01, 428.91it/s]"
     ]
    },
    {
     "name": "stdout",
     "output_type": "stream",
     "text": [
      "Processing:  007 - Raising Gazorpazorp.txt\n"
     ]
    },
    {
     "name": "stderr",
     "output_type": "stream",
     "text": [
      "100%|██████████| 559/559 [00:00<00:00, 758.61it/s]\n",
      "  6%|▌         | 16/270 [00:00<00:01, 158.06it/s]"
     ]
    },
    {
     "name": "stdout",
     "output_type": "stream",
     "text": [
      "Processing:  018 - Big Trouble In Little Sanchez.txt\n"
     ]
    },
    {
     "name": "stderr",
     "output_type": "stream",
     "text": [
      "100%|██████████| 270/270 [00:01<00:00, 264.89it/s]\n",
      " 11%|█         | 37/337 [00:00<00:00, 353.51it/s]"
     ]
    },
    {
     "name": "stdout",
     "output_type": "stream",
     "text": [
      "Processing:  014 - Auto Erotic Assimilation.txt\n"
     ]
    },
    {
     "name": "stderr",
     "output_type": "stream",
     "text": [
      "100%|██████████| 337/337 [00:01<00:00, 230.62it/s]\n",
      "  7%|▋         | 21/323 [00:00<00:01, 202.55it/s]"
     ]
    },
    {
     "name": "stdout",
     "output_type": "stream",
     "text": [
      "Processing:  030 - The ABCs of Beth.txt\n"
     ]
    },
    {
     "name": "stderr",
     "output_type": "stream",
     "text": [
      "100%|██████████| 323/323 [00:01<00:00, 221.73it/s]\n",
      " 35%|███▌      | 40/113 [00:00<00:00, 374.76it/s]"
     ]
    },
    {
     "name": "stdout",
     "output_type": "stream",
     "text": [
      "Processing:  006 - Rick Potion 9.txt\n"
     ]
    },
    {
     "name": "stderr",
     "output_type": "stream",
     "text": [
      "100%|██████████| 113/113 [00:00<00:00, 343.32it/s]\n",
      "  6%|▌         | 25/432 [00:00<00:01, 245.19it/s]"
     ]
    },
    {
     "name": "stdout",
     "output_type": "stream",
     "text": [
      "Processing:  008 - Rixty Minutes.txt\n"
     ]
    },
    {
     "name": "stderr",
     "output_type": "stream",
     "text": [
      "100%|██████████| 432/432 [00:00<00:00, 1491.65it/s]\n",
      "  6%|▌         | 26/444 [00:00<00:01, 254.72it/s]"
     ]
    },
    {
     "name": "stdout",
     "output_type": "stream",
     "text": [
      "Processing:  003 - Anatomy Park.txt\n"
     ]
    },
    {
     "name": "stderr",
     "output_type": "stream",
     "text": [
      "100%|██████████| 444/444 [00:00<00:00, 485.18it/s]\n",
      "  8%|▊         | 31/378 [00:00<00:01, 292.31it/s]"
     ]
    },
    {
     "name": "stdout",
     "output_type": "stream",
     "text": [
      "Processing:  009 - Something Ricked This Way Comes.txt\n"
     ]
    },
    {
     "name": "stderr",
     "output_type": "stream",
     "text": [
      "100%|██████████| 378/378 [00:01<00:00, 296.48it/s]\n",
      "  6%|▌         | 22/377 [00:00<00:01, 209.98it/s]"
     ]
    },
    {
     "name": "stdout",
     "output_type": "stream",
     "text": [
      "Processing:  013 - Mortynight Run.txt\n"
     ]
    },
    {
     "name": "stderr",
     "output_type": "stream",
     "text": [
      "100%|██████████| 377/377 [00:00<00:00, 378.75it/s]\n",
      "  9%|▊         | 28/321 [00:00<00:01, 268.76it/s]"
     ]
    },
    {
     "name": "stdout",
     "output_type": "stream",
     "text": [
      "Processing:  005 - Meeseeks and Destroy.txt\n"
     ]
    },
    {
     "name": "stderr",
     "output_type": "stream",
     "text": [
      "100%|██████████| 321/321 [00:01<00:00, 313.42it/s]\n",
      "  9%|▉         | 27/295 [00:00<00:01, 262.53it/s]"
     ]
    },
    {
     "name": "stdout",
     "output_type": "stream",
     "text": [
      "Processing:  004 - M. Night Shaym-Aliens!.txt\n"
     ]
    },
    {
     "name": "stderr",
     "output_type": "stream",
     "text": [
      "100%|██████████| 295/295 [00:01<00:00, 285.30it/s]\n",
      "  6%|▌         | 21/376 [00:00<00:01, 201.13it/s]"
     ]
    },
    {
     "name": "stdout",
     "output_type": "stream",
     "text": [
      "Processing:  023 - Rickmancing the Stone.txt\n"
     ]
    },
    {
     "name": "stderr",
     "output_type": "stream",
     "text": [
      "100%|██████████| 376/376 [00:01<00:00, 293.44it/s]\n",
      "  4%|▍         | 18/411 [00:00<00:02, 177.40it/s]"
     ]
    },
    {
     "name": "stdout",
     "output_type": "stream",
     "text": [
      "Processing:  012 - A Rickle in Time.txt\n"
     ]
    },
    {
     "name": "stderr",
     "output_type": "stream",
     "text": [
      "100%|██████████| 411/411 [00:01<00:00, 312.72it/s]\n"
     ]
    }
   ],
   "source": [
    "files = os.listdir(\"./parsed\")\n",
    "for filename in files:\n",
    "    print('Processing: ', filename)\n",
    "    lines = 0\n",
    "    with open(\"./parsed/\" + filename, \"r\") as f:             \n",
    "        for line in f:            \n",
    "            lines += 1\n",
    "            \n",
    "    with open(\"./parsed/\" + filename, \"r\") as f:                    \n",
    "        index = 0\n",
    "        for line in tqdm(f, total=lines): \n",
    "            if stripPersonnas == True:\n",
    "                find = re.search(r\"^([a-zA-Z][a-zA-Z \\.]+).*\\:(.*)\", line) \n",
    "            else:\n",
    "                find = re.search(r\"^([a-z][a-z0-9 \\(\\)]+):(.*)\", line)\n",
    "\n",
    "            if find:\n",
    "                name = find.group(1).strip()\n",
    "                text = find.group(2).strip()\n",
    "                if name not in ignore:\n",
    "                    try:\n",
    "                        actualName = replace[name]\n",
    "                    except:\n",
    "                        actualName = name\n",
    "                    \n",
    "                    parseLine(actualName, text, filename[6:len(filename)-4], int(index * convTimelineCell / lines))\n",
    "            index += 1"
   ]
  },
  {
   "cell_type": "code",
   "execution_count": 6,
   "metadata": {},
   "outputs": [],
   "source": [
    "# toRemove = []\n",
    "# characters = data['characters']\n",
    "# data['allCharacterNames'] = set(characters.keys())\n",
    "# for key in characters.keys():\n",
    "#     count = characters[key]['linesCount']\n",
    "#     if count < minLines:\n",
    "#         toRemove.append(key)\n",
    "        \n",
    "# for keyToRemove in toRemove:\n",
    "#     del characters[keyToRemove]\n",
    "    \n",
    "# print(characters.keys())"
   ]
  },
  {
   "cell_type": "code",
   "execution_count": 7,
   "metadata": {},
   "outputs": [
    {
     "name": "stdout",
     "output_type": "stream",
     "text": [
      "-------------------\n",
      "jerry\n",
      "[('morty', 24), ('planet', 23), ('guys', 20), ('son', 19), ('thing', 18), ('summer', 18), ('time', 18), ('family', 16), ('father', 16), ('rick', 13), ('jerry', 12), ('house', 11), ('science', 11), ('way', 10), ('life', 8), ('honey', 8), ('wife', 8), ('people', 7), ('fun', 7), ('hell', 7), ('gary', 7), ('guy', 7), ('christmas', 7), ('kids', 7), ('things', 7), ('pluto', 7), ('idea', 6), ('school', 6), ('friend', 6), ('head', 6), ('dad', 6), ('man', 6), ('apples', 6), ('deer', 6), ('tv', 5), ('device', 5), ('job', 5), ('love', 5), ('milk', 5), ('home', 5), ('face', 5), ('kind', 5), ('dog', 5), ('mom', 5), ('cloud', 4), ('atlas', 4), ('tru', 4), ('surgeon', 4), ('game', 4), ('movie', 4)]\n",
      "-------------------\n",
      "summer\n",
      "[('dad', 39), ('grandpa', 39), ('morty', 25), ('rick', 19), ('mom', 12), ('guys', 11), ('people', 8), ('head', 7), ('time', 7), ('unity', 7), ('drum', 7), ('pants', 6), ('school', 6), ('place', 6), ('parents', 5), ('thing', 5), ('family', 5), ('god', 5), ('world', 4), ('life', 4), ('brother', 4), ('friend', 4), ('day', 4), ('job', 4), ('phone', 4), ('way', 4), ('love', 4), ('fact', 4), ('monster', 4), ('grampa', 4), ('gun', 3), ('deal', 3), ('mind', 3), ('food', 3), ('summer', 3), ('snuffles', 3), ('man', 3), ('dinner', 3), ('tonight', 3), ('prison', 3), ('body', 3), ('cloud', 2), ('atlas', 2), ('yahtzee', 2), ('purpose', 2), ('mr', 2), ('lot', 2), ('pictures', 2), ('friends', 2), ('lady', 2)]\n",
      "-------------------\n",
      "beth\n",
      "[('jerry', 59), ('dad', 47), ('morty', 26), ('summer', 17), ('father', 15), ('time', 12), ('life', 12), ('family', 12), ('tommy', 12), ('kids', 10), ('hell', 9), ('people', 8), ('daughter', 8), ('thing', 7), ('guys', 7), ('school', 7), ('deer', 7), ('work', 6), ('stuff', 5), ('horse', 5), ('surgeon', 5), ('crap', 5), ('job', 5), ('world', 5), ('lives', 4), ('wedding', 4), ('mom', 4), ('son', 4), ('lot', 3), ('photos', 3), ('morning', 3), ('reason', 3), ('door', 3), ('heart', 3), ('home', 3), ('way', 3), ('girl', 3), ('person', 3), ('pickle', 3), ('therapy', 3), ('mistake', 3), ('conversation', 3), ('ego', 3), ('bitch', 3), ('meeseeks', 3), ('narcissism', 2), ('sighs', 2), ('surgery', 2), ('dreams', 2), ('head', 2)]\n",
      "-------------------\n",
      "rick\n",
      "[('morty', 526), ('jerry', 91), ('time', 76), ('summer', 47), ('thing', 39), ('guys', 34), ('people', 32), ('way', 30), ('life', 30), ('man', 28), ('guy', 27), ('world', 26), ('rick', 26), ('things', 22), ('shit', 21), ('stuff', 20), ('job', 19), ('planet', 19), ('lot', 19), ('gun', 19), ('everybody', 18), ('unity', 18), ('point', 17), ('earth', 17), ('hell', 17), ('bitch', 17), ('ricks', 17), ('bunch', 16), ('day', 16), ('family', 15), ('adventure', 14), ('place', 14), ('grandpa', 14), ('mind', 14), ('seeds', 14), ('t', 13), ('years', 13), ('baby', 13), ('pants', 13), ('movie', 12), ('crap', 12), ('universe', 12), ('ice', 12), ('space', 12), ('idea', 12), ('home', 12), ('kids', 12), ('piece', 11), ('head', 11), ('kind', 11)]\n",
      "-------------------\n",
      "morty\n",
      "[('dad', 45), ('summer', 42), ('rick', 38), ('morty', 22), ('thing', 21), ('mom', 20), ('time', 19), ('man', 18), ('hell', 16), ('people', 16), ('place', 14), ('stuff', 13), ('sister', 12), ('crap', 11), ('life', 11), ('gun', 11), ('t', 11), ('things', 10), ('lot', 9), ('adventure', 9), ('family', 8), ('way', 8), ('planet', 8), ('world', 7), ('everybody', 7), ('guys', 7), ('car', 7), ('grandpa', 7), ('monster', 7), ('ricks', 7), ('c', 7), ('minute', 6), ('thanks', 6), ('memories', 6), ('boy', 6), ('guy', 6), ('jessica', 6), ('day', 5), ('w', 5), ('adventures', 5), ('point', 5), ('son', 5), ('bitch', 5), ('problem', 5), ('mind', 5), ('sir', 5), ('earth', 5), ('head', 5), ('ones', 5), ('idea', 5)]\n",
      "-------------------\n",
      "pickle rick\n",
      "[('morty', 15), ('pickle', 13), ('sweetie', 4), ('syringe', 3), ('daughter', 3), ('jaguar', 3), ('garage', 2), ('eye', 2), ('mind', 2), ('way', 2), ('therapy', 2), ('summer', 2), ('purse', 2), ('time', 2), ('work', 1), ('bench', 1), ('job', 1), ('magic', 1), ('science', 1), ('brains', 1), ('liner', 1), ('layers', 1), ('reason', 1), ('guys', 1), ('god', 1), ('man', 1), ('suspicion', 1), ('contact', 1), ('family', 1), ('lack', 1), ('fingers', 1), ('perception', 1), ('air', 1), ('quotes', 1), ('question', 1), ('answer', 1), ('hours', 1), ('days', 1), ('form', 1), ('mom', 1), ('pocket', 1), ('discussion', 1), ('explanation', 1), ('spite', 1), ('features', 1), ('scar', 1), ('stripe', 1), ('goliath', 1), ('fuck', 1), ('toilet', 1)]\n",
      "-------------------\n",
      "unity\n",
      "[('summer', 6), ('planet', 5), ('rick', 4), ('time', 3), ('world', 3), ('town', 3), ('morty', 3), ('son', 3), ('species', 3), ('beta', 3), ('problem', 3), ('federation', 2), ('hivemind', 2), ('balloon', 2), ('alliance', 2), ('man', 2), ('way', 2), ('space', 1), ('passion', 1), ('unification', 1), ('guests', 1), ('type', 1), ('civilisation', 1), ('access', 1), ('planets', 1), ('universe', 1), ('god', 1), ('substances', 1), ('need', 1), ('escape', 1), ('self', 1), ('population', 1), ('people', 1), ('change', 1), ('neighboring', 1), ('exchange', 1), ('resources', 1), ('friend', 1), ('earth', 1), ('allies', 1), ('hell', 1), ('resin', 1), ('dust', 1), ('party', 1), ('sex', 1), ('offender', 1), ('woman', 1), ('drug', 1), ('addict', 1), ('verge', 1)]\n",
      "Ricksy Business\n",
      "Rixty Minutes\n",
      "Ricksy Business\n",
      "The Wedding Squanchers\n",
      "Total Rickall\n",
      "Look Who's Purging Now\n",
      "Morty's Mind Blowers\n",
      "Pilot\n",
      "Close Rick-counters of the Rick Kind\n",
      "The Whirly Dirly Conspiracy\n",
      "Lawnmower Dog\n",
      "Get Schwifty\n",
      "The Rickshank Redemption\n",
      "Raising Gazorpazorp\n",
      "Big Trouble In Little Sanchez\n",
      "Auto Erotic Assimilation\n",
      "The ABCs of Beth\n",
      "Rick Potion 9\n",
      "Rixty Minutes\n",
      "Anatomy Park\n",
      "Something Ricked This Way Comes\n",
      "Mortynight Run\n",
      "Meeseeks and Destroy\n",
      "M. Night Shaym-Aliens!\n",
      "Rickmancing the Stone\n",
      "A Rickle in Time\n",
      "Ricksy Business\n",
      "The Wedding Squanchers\n",
      "Total Rickall\n",
      "Look Who's Purging Now\n",
      "Morty's Mind Blowers\n",
      "Pilot\n",
      "Close Rick-counters of the Rick Kind\n",
      "The Whirly Dirly Conspiracy\n",
      "Lawnmower Dog\n",
      "Get Schwifty\n",
      "Pickle Rick\n",
      "The Rickshank Redemption\n",
      "Raising Gazorpazorp\n",
      "Big Trouble In Little Sanchez\n",
      "Auto Erotic Assimilation\n",
      "The ABCs of Beth\n",
      "Rick Potion 9\n",
      "Rixty Minutes\n",
      "Anatomy Park\n",
      "Something Ricked This Way Comes\n",
      "Meeseeks and Destroy\n",
      "Rickmancing the Stone\n",
      "A Rickle in Time\n",
      "Ricksy Business\n",
      "The Wedding Squanchers\n",
      "Total Rickall\n",
      "Look Who's Purging Now\n",
      "Morty's Mind Blowers\n",
      "Pilot\n",
      "Close Rick-counters of the Rick Kind\n",
      "The Whirly Dirly Conspiracy\n",
      "Lawnmower Dog\n",
      "Get Schwifty\n",
      "Pickle Rick\n",
      "The Rickshank Redemption\n",
      "Raising Gazorpazorp\n",
      "Big Trouble In Little Sanchez\n",
      "Auto Erotic Assimilation\n",
      "The ABCs of Beth\n",
      "Rick Potion 9\n",
      "Rixty Minutes\n",
      "Anatomy Park\n",
      "Something Ricked This Way Comes\n",
      "Meeseeks and Destroy\n",
      "M. Night Shaym-Aliens!\n",
      "Rickmancing the Stone\n",
      "A Rickle in Time\n",
      "Ricksy Business\n",
      "The Wedding Squanchers\n",
      "Total Rickall\n",
      "Look Who's Purging Now\n",
      "Morty's Mind Blowers\n",
      "Pilot\n",
      "Close Rick-counters of the Rick Kind\n",
      "The Whirly Dirly Conspiracy\n",
      "Lawnmower Dog\n",
      "Get Schwifty\n",
      "Pickle Rick\n",
      "The Rickshank Redemption\n",
      "Raising Gazorpazorp\n",
      "Big Trouble In Little Sanchez\n",
      "Auto Erotic Assimilation\n",
      "The ABCs of Beth\n",
      "Rick Potion 9\n",
      "Rixty Minutes\n",
      "Anatomy Park\n",
      "Something Ricked This Way Comes\n",
      "Mortynight Run\n",
      "Meeseeks and Destroy\n",
      "M. Night Shaym-Aliens!\n",
      "Rickmancing the Stone\n",
      "A Rickle in Time\n",
      "Ricksy Business\n",
      "The Wedding Squanchers\n",
      "Total Rickall\n",
      "Look Who's Purging Now\n",
      "Morty's Mind Blowers\n",
      "Pilot\n",
      "Close Rick-counters of the Rick Kind\n",
      "The Whirly Dirly Conspiracy\n",
      "Lawnmower Dog\n",
      "Get Schwifty\n",
      "Pickle Rick\n",
      "The Rickshank Redemption\n",
      "Raising Gazorpazorp\n",
      "Big Trouble In Little Sanchez\n",
      "Auto Erotic Assimilation\n",
      "The ABCs of Beth\n",
      "Rick Potion 9\n",
      "Rixty Minutes\n",
      "Anatomy Park\n",
      "Something Ricked This Way Comes\n",
      "Mortynight Run\n",
      "Meeseeks and Destroy\n",
      "M. Night Shaym-Aliens!\n",
      "Rickmancing the Stone\n",
      "A Rickle in Time\n",
      "Ricksy Business\n",
      "Rixty Minutes\n",
      "Ricksy Business\n",
      "Pilot\n",
      "Rixty Minutes\n",
      "Ricksy Business\n",
      "Rixty Minutes\n",
      "Ricksy Business\n",
      "Look Who's Purging Now\n",
      "Rixty Minutes\n",
      "Meeseeks and Destroy\n",
      "M. Night Shaym-Aliens!\n",
      "Ricksy Business\n",
      "Pilot\n",
      "Rixty Minutes\n",
      "Mortynight Run\n",
      "Ricksy Business\n",
      "Rixty Minutes\n",
      "Ricksy Business\n",
      "Rixty Minutes\n",
      "Ricksy Business\n",
      "Rixty Minutes\n",
      "Ricksy Business\n",
      "Rixty Minutes\n",
      "Ricksy Business\n",
      "Rixty Minutes\n",
      "Meeseeks and Destroy\n",
      "Ricksy Business\n",
      "Get Schwifty\n",
      "Rixty Minutes\n",
      "Ricksy Business\n",
      "Rixty Minutes\n",
      "Ricksy Business\n",
      "Rixty Minutes\n",
      "Ricksy Business\n",
      "Rixty Minutes\n",
      "Ricksy Business\n",
      "Rixty Minutes\n",
      "Ricksy Business\n",
      "Rixty Minutes\n",
      "Ricksy Business\n",
      "Rixty Minutes\n",
      "Ricksy Business\n",
      "Rixty Minutes\n",
      "Ricksy Business\n",
      "Rixty Minutes\n",
      "Ricksy Business\n",
      "Rixty Minutes\n",
      "Ricksy Business\n",
      "Rixty Minutes\n",
      "Ricksy Business\n",
      "Rixty Minutes\n",
      "Ricksy Business\n",
      "Rixty Minutes\n",
      "Ricksy Business\n",
      "Rixty Minutes\n",
      "Ricksy Business\n",
      "Rixty Minutes\n",
      "Ricksy Business\n",
      "Rixty Minutes\n",
      "Ricksy Business\n",
      "Rixty Minutes\n",
      "Ricksy Business\n",
      "Rixty Minutes\n",
      "Ricksy Business\n",
      "Rixty Minutes\n",
      "Ricksy Business\n",
      "Rixty Minutes\n",
      "Ricksy Business\n",
      "The ABCs of Beth\n",
      "Rixty Minutes\n",
      "The Wedding Squanchers\n",
      "The Wedding Squanchers\n",
      "Get Schwifty\n",
      "The Rickshank Redemption\n",
      "The Wedding Squanchers\n",
      "Get Schwifty\n",
      "The Rickshank Redemption\n",
      "The Wedding Squanchers\n",
      "The Wedding Squanchers\n",
      "The Wedding Squanchers\n",
      "The Wedding Squanchers\n",
      "Total Rickall\n",
      "The Whirly Dirly Conspiracy\n",
      "Get Schwifty\n",
      "Auto Erotic Assimilation\n",
      "Anatomy Park\n",
      "M. Night Shaym-Aliens!\n",
      "The Wedding Squanchers\n",
      "The Wedding Squanchers\n",
      "The Rickshank Redemption\n",
      "The Wedding Squanchers\n",
      "The Wedding Squanchers\n",
      "Pickle Rick\n",
      "The Wedding Squanchers\n",
      "Mortynight Run\n",
      "The Wedding Squanchers\n",
      "The Wedding Squanchers\n",
      "The Wedding Squanchers\n",
      "Total Rickall\n",
      "Total Rickall\n",
      "Total Rickall\n",
      "Total Rickall\n",
      "Total Rickall\n",
      "Total Rickall\n",
      "Total Rickall\n",
      "Total Rickall\n",
      "Total Rickall\n",
      "Total Rickall\n",
      "Total Rickall\n",
      "Total Rickall\n",
      "Total Rickall\n",
      "Total Rickall\n",
      "Total Rickall\n",
      "Total Rickall\n",
      "Total Rickall\n",
      "Total Rickall\n",
      "Total Rickall\n",
      "Total Rickall\n",
      "Total Rickall\n",
      "Mortynight Run\n",
      "Look Who's Purging Now\n",
      "Look Who's Purging Now\n",
      "Look Who's Purging Now\n",
      "Look Who's Purging Now\n",
      "Look Who's Purging Now\n",
      "Look Who's Purging Now\n",
      "Look Who's Purging Now\n",
      "Morty's Mind Blowers\n",
      "Big Trouble In Little Sanchez\n",
      "Morty's Mind Blowers\n",
      "Morty's Mind Blowers\n",
      "Morty's Mind Blowers\n",
      "Morty's Mind Blowers\n",
      "Morty's Mind Blowers\n",
      "Morty's Mind Blowers\n",
      "Morty's Mind Blowers\n",
      "Morty's Mind Blowers\n",
      "Morty's Mind Blowers\n",
      "Lawnmower Dog\n",
      "Morty's Mind Blowers\n",
      "Pilot\n",
      "Pilot\n",
      "Lawnmower Dog\n",
      "Get Schwifty\n",
      "Pickle Rick\n",
      "The Rickshank Redemption\n",
      "Big Trouble In Little Sanchez\n",
      "M. Night Shaym-Aliens!\n",
      "Pilot\n",
      "Pilot\n",
      "Big Trouble In Little Sanchez\n",
      "Rick Potion 9\n",
      "M. Night Shaym-Aliens!\n",
      "Pilot\n",
      "Pilot\n",
      "Pilot\n",
      "Anatomy Park\n",
      "Pilot\n",
      "Get Schwifty\n",
      "Rick Potion 9\n",
      "Pilot\n",
      "Raising Gazorpazorp\n",
      "Mortynight Run\n",
      "Pilot\n",
      "The Rickshank Redemption\n",
      "Mortynight Run\n",
      "Close Rick-counters of the Rick Kind\n",
      "Close Rick-counters of the Rick Kind\n",
      "Close Rick-counters of the Rick Kind\n",
      "Close Rick-counters of the Rick Kind\n",
      "Close Rick-counters of the Rick Kind\n",
      "Close Rick-counters of the Rick Kind\n",
      "Close Rick-counters of the Rick Kind\n",
      "Close Rick-counters of the Rick Kind\n",
      "Close Rick-counters of the Rick Kind\n",
      "Close Rick-counters of the Rick Kind\n",
      "A Rickle in Time\n",
      "Close Rick-counters of the Rick Kind\n",
      "Close Rick-counters of the Rick Kind\n",
      "Close Rick-counters of the Rick Kind\n",
      "Close Rick-counters of the Rick Kind\n",
      "Close Rick-counters of the Rick Kind\n",
      "Close Rick-counters of the Rick Kind\n",
      "Close Rick-counters of the Rick Kind\n",
      "Close Rick-counters of the Rick Kind\n",
      "Close Rick-counters of the Rick Kind\n",
      "A Rickle in Time\n",
      "Close Rick-counters of the Rick Kind\n",
      "The Whirly Dirly Conspiracy\n",
      "The Whirly Dirly Conspiracy\n",
      "The Whirly Dirly Conspiracy\n",
      "The Whirly Dirly Conspiracy\n",
      "The Whirly Dirly Conspiracy\n",
      "The Whirly Dirly Conspiracy\n",
      "The Whirly Dirly Conspiracy\n",
      "The Whirly Dirly Conspiracy\n",
      "The Whirly Dirly Conspiracy\n",
      "The Whirly Dirly Conspiracy\n",
      "The Whirly Dirly Conspiracy\n",
      "The Whirly Dirly Conspiracy\n",
      "The Whirly Dirly Conspiracy\n",
      "The Whirly Dirly Conspiracy\n",
      "The Whirly Dirly Conspiracy\n",
      "Get Schwifty\n",
      "Anatomy Park\n",
      "The Whirly Dirly Conspiracy\n",
      "Lawnmower Dog\n",
      "Lawnmower Dog\n",
      "Lawnmower Dog\n",
      "Lawnmower Dog\n",
      "Lawnmower Dog\n",
      "Lawnmower Dog\n",
      "Lawnmower Dog\n",
      "Lawnmower Dog\n",
      "Lawnmower Dog\n",
      "Lawnmower Dog\n",
      "Lawnmower Dog\n",
      "Lawnmower Dog\n",
      "Lawnmower Dog\n",
      "Lawnmower Dog\n",
      "Anatomy Park\n",
      "Lawnmower Dog\n",
      "Lawnmower Dog\n",
      "Lawnmower Dog\n",
      "Lawnmower Dog\n",
      "Lawnmower Dog\n",
      "Get Schwifty\n",
      "Get Schwifty\n",
      "Get Schwifty\n",
      "Get Schwifty\n",
      "Get Schwifty\n",
      "Get Schwifty\n",
      "Get Schwifty\n",
      "Get Schwifty\n",
      "Get Schwifty\n",
      "Get Schwifty\n",
      "Get Schwifty\n",
      "Get Schwifty\n",
      "Get Schwifty\n",
      "Get Schwifty\n",
      "Get Schwifty\n",
      "Get Schwifty\n",
      "Get Schwifty\n",
      "Get Schwifty\n",
      "Get Schwifty\n",
      "Get Schwifty\n",
      "Get Schwifty\n",
      "Get Schwifty\n",
      "Get Schwifty\n",
      "Get Schwifty\n",
      "Get Schwifty\n",
      "Pickle Rick\n",
      "Pickle Rick\n",
      "Pickle Rick\n",
      "Pickle Rick\n",
      "Pickle Rick\n",
      "The Rickshank Redemption\n",
      "The Rickshank Redemption\n",
      "The Rickshank Redemption\n",
      "The Rickshank Redemption\n",
      "The Rickshank Redemption\n",
      "The Rickshank Redemption\n",
      "The Rickshank Redemption\n",
      "The Rickshank Redemption\n",
      "The Rickshank Redemption\n",
      "The Rickshank Redemption\n",
      "The Rickshank Redemption\n",
      "The Rickshank Redemption\n",
      "The Rickshank Redemption\n",
      "The Rickshank Redemption\n",
      "The Rickshank Redemption\n",
      "The Rickshank Redemption\n",
      "The Rickshank Redemption\n",
      "The Rickshank Redemption\n",
      "The Rickshank Redemption\n",
      "The Rickshank Redemption\n",
      "The Rickshank Redemption\n",
      "The Rickshank Redemption\n",
      "The Rickshank Redemption\n",
      "The Rickshank Redemption\n",
      "The Rickshank Redemption\n",
      "The Rickshank Redemption\n",
      "Raising Gazorpazorp\n",
      "Raising Gazorpazorp\n",
      "Big Trouble In Little Sanchez\n",
      "Big Trouble In Little Sanchez\n",
      "Big Trouble In Little Sanchez\n",
      "Big Trouble In Little Sanchez\n",
      "Big Trouble In Little Sanchez\n",
      "Big Trouble In Little Sanchez\n",
      "Something Ricked This Way Comes\n",
      "Big Trouble In Little Sanchez\n",
      "Big Trouble In Little Sanchez\n",
      "Big Trouble In Little Sanchez\n",
      "Auto Erotic Assimilation\n",
      "Auto Erotic Assimilation\n",
      "Auto Erotic Assimilation\n",
      "Auto Erotic Assimilation\n",
      "Auto Erotic Assimilation\n",
      "Auto Erotic Assimilation\n",
      "Auto Erotic Assimilation\n",
      "Auto Erotic Assimilation\n",
      "Auto Erotic Assimilation\n",
      "Auto Erotic Assimilation\n",
      "Auto Erotic Assimilation\n",
      "Auto Erotic Assimilation\n",
      "Auto Erotic Assimilation\n",
      "Auto Erotic Assimilation\n",
      "The ABCs of Beth\n",
      "The ABCs of Beth\n",
      "The ABCs of Beth\n",
      "The ABCs of Beth\n",
      "The ABCs of Beth\n",
      "The ABCs of Beth\n",
      "The ABCs of Beth\n",
      "The ABCs of Beth\n",
      "The ABCs of Beth\n",
      "The ABCs of Beth\n",
      "The ABCs of Beth\n",
      "The ABCs of Beth\n",
      "The ABCs of Beth\n",
      "The ABCs of Beth\n",
      "The ABCs of Beth\n",
      "The ABCs of Beth\n",
      "Rick Potion 9\n",
      "Rick Potion 9\n",
      "Rixty Minutes\n",
      "Rixty Minutes\n",
      "Rixty Minutes\n",
      "Rixty Minutes\n",
      "Anatomy Park\n",
      "Anatomy Park\n",
      "Anatomy Park\n",
      "Anatomy Park\n",
      "Anatomy Park\n",
      "Anatomy Park\n",
      "Anatomy Park\n",
      "Anatomy Park\n",
      "Anatomy Park\n",
      "Anatomy Park\n",
      "Anatomy Park\n",
      "Anatomy Park\n",
      "Anatomy Park\n",
      "Anatomy Park\n",
      "Something Ricked This Way Comes\n",
      "Something Ricked This Way Comes\n",
      "Something Ricked This Way Comes\n",
      "Something Ricked This Way Comes\n",
      "Something Ricked This Way Comes\n",
      "Something Ricked This Way Comes\n",
      "Something Ricked This Way Comes\n",
      "Something Ricked This Way Comes\n",
      "Something Ricked This Way Comes\n",
      "Something Ricked This Way Comes\n",
      "Something Ricked This Way Comes\n",
      "Something Ricked This Way Comes\n",
      "Something Ricked This Way Comes\n",
      "Mortynight Run\n",
      "Something Ricked This Way Comes\n",
      "Something Ricked This Way Comes\n",
      "Something Ricked This Way Comes\n",
      "Something Ricked This Way Comes\n",
      "Something Ricked This Way Comes\n",
      "Mortynight Run\n",
      "Mortynight Run\n",
      "Mortynight Run\n",
      "Mortynight Run\n",
      "Mortynight Run\n",
      "Mortynight Run\n",
      "Mortynight Run\n",
      "Mortynight Run\n",
      "Mortynight Run\n",
      "Mortynight Run\n",
      "Mortynight Run\n",
      "Mortynight Run\n",
      "Mortynight Run\n",
      "Mortynight Run\n",
      "Mortynight Run\n",
      "Mortynight Run\n",
      "Mortynight Run\n",
      "Mortynight Run\n",
      "Mortynight Run\n",
      "Mortynight Run\n",
      "Mortynight Run\n",
      "Mortynight Run\n",
      "Mortynight Run\n",
      "Mortynight Run\n",
      "Mortynight Run\n",
      "Mortynight Run\n",
      "Mortynight Run\n",
      "Mortynight Run\n",
      "Mortynight Run\n",
      "Mortynight Run\n",
      "Meeseeks and Destroy\n",
      "Meeseeks and Destroy\n",
      "Meeseeks and Destroy\n",
      "Meeseeks and Destroy\n",
      "Meeseeks and Destroy\n",
      "Meeseeks and Destroy\n",
      "Meeseeks and Destroy\n",
      "Meeseeks and Destroy\n",
      "Meeseeks and Destroy\n",
      "Meeseeks and Destroy\n",
      "Meeseeks and Destroy\n",
      "Meeseeks and Destroy\n",
      "Meeseeks and Destroy\n",
      "Meeseeks and Destroy\n",
      "Meeseeks and Destroy\n",
      "Meeseeks and Destroy\n",
      "Meeseeks and Destroy\n",
      "Meeseeks and Destroy\n",
      "Meeseeks and Destroy\n",
      "Meeseeks and Destroy\n",
      "M. Night Shaym-Aliens!\n",
      "M. Night Shaym-Aliens!\n",
      "M. Night Shaym-Aliens!\n",
      "M. Night Shaym-Aliens!\n",
      "M. Night Shaym-Aliens!\n",
      "M. Night Shaym-Aliens!\n",
      "M. Night Shaym-Aliens!\n",
      "M. Night Shaym-Aliens!\n",
      "M. Night Shaym-Aliens!\n",
      "M. Night Shaym-Aliens!\n",
      "M. Night Shaym-Aliens!\n",
      "M. Night Shaym-Aliens!\n",
      "Rickmancing the Stone\n",
      "Rickmancing the Stone\n",
      "Rickmancing the Stone\n",
      "Rickmancing the Stone\n",
      "Rickmancing the Stone\n",
      "Rickmancing the Stone\n",
      "Rickmancing the Stone\n",
      "Rickmancing the Stone\n",
      "Rickmancing the Stone\n",
      "Rickmancing the Stone\n",
      "Rickmancing the Stone\n",
      "Rickmancing the Stone\n",
      "Rickmancing the Stone\n",
      "Rickmancing the Stone\n",
      "Rickmancing the Stone\n",
      "A Rickle in Time\n",
      "A Rickle in Time\n",
      "A Rickle in Time\n",
      "A Rickle in Time\n",
      "A Rickle in Time\n",
      "A Rickle in Time\n",
      "A Rickle in Time\n",
      "A Rickle in Time\n",
      "A Rickle in Time\n",
      "A Rickle in Time\n",
      "A Rickle in Time\n",
      "A Rickle in Time\n",
      "A Rickle in Time\n",
      "A Rickle in Time\n"
     ]
    }
   ],
   "source": [
    "for key in main:\n",
    "    try:\n",
    "        character = data['characters'][key]\n",
    "        full_text = character['fullText']\n",
    "        doc = nlp(full_text)\n",
    "        nouns = [token.text for token in doc if token.is_stop != True and token.is_punct != True and token.pos_ == \"NOUN\"]\n",
    "        word_freq = Counter(nouns)\n",
    "        character['common_words'] = word_freq.most_common(50)    \n",
    "        print('-'.join(['-']*10))\n",
    "        print(key)\n",
    "        print(character['common_words'])\n",
    "    except KeyError:\n",
    "        pass\n",
    "\n",
    "for key in data['characters'].keys():\n",
    "    \n",
    "    character = data['characters'][key]\n",
    "    for keyToRemove in keysToRemove:\n",
    "        try:\n",
    "            del character[keyToRemove]\n",
    "        except KeyError:\n",
    "            pass\n",
    "    episodes = character['episodes']\n",
    "    \n",
    "    for episode in episodes.keys():\n",
    "        print(episode)\n",
    "        for keyToRemove in keysToRemove:\n",
    "            try:\n",
    "                del character['episodes'][episode][keyToRemove]\n",
    "            except KeyError:\n",
    "                pass\n",
    "\n",
    "    \n",
    "    \n",
    "    "
   ]
  },
  {
   "cell_type": "code",
   "execution_count": 8,
   "metadata": {},
   "outputs": [],
   "source": [
    "with open('data.json', 'w') as fp:\n",
    "    json.dump(data, fp)"
   ]
  },
  {
   "cell_type": "code",
   "execution_count": null,
   "metadata": {},
   "outputs": [],
   "source": []
  },
  {
   "cell_type": "code",
   "execution_count": null,
   "metadata": {},
   "outputs": [],
   "source": []
  }
 ],
 "metadata": {
  "kernelspec": {
   "display_name": "Python 3",
   "language": "python",
   "name": "python3"
  },
  "language_info": {
   "codemirror_mode": {
    "name": "ipython",
    "version": 3
   },
   "file_extension": ".py",
   "mimetype": "text/x-python",
   "name": "python",
   "nbconvert_exporter": "python",
   "pygments_lexer": "ipython3",
   "version": "3.7.0"
  }
 },
 "nbformat": 4,
 "nbformat_minor": 2
}
