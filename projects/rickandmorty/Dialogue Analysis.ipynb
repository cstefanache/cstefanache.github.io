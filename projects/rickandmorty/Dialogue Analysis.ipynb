{
 "cells": [
  {
   "cell_type": "code",
   "execution_count": 1,
   "metadata": {},
   "outputs": [],
   "source": [
    "import os\n",
    "import re\n",
    "import json\n",
    "import pprint\n",
    "import random\n",
    "\n",
    "import pandas as pd\n",
    "from collections import Counter\n",
    "\n",
    "import spacy\n",
    "from spacy.tokens import Doc\n",
    "from spacy.gold import GoldParse\n",
    "from spacy.language import EntityRecognizer\n",
    "from spacy.util import minibatch, compounding\n",
    "\n",
    "from tqdm import tqdm\n",
    "\n",
    "pp = pprint.PrettyPrinter(indent=4)\n",
    "nlp = spacy.load(\"en_core_web_lg\") \n",
    "\n",
    "if \"ner\" not in nlp.pipe_names:\n",
    "    ner = nlp.create_pipe(\"ner\")\n",
    "    nlp.add_pipe(ner, last=True)\n",
    "    # otherwise, get it so we can add labels\n",
    "else:\n",
    "    ner = nlp.get_pipe(\"ner\")\n",
    "    \n",
    "stripPersonnas = True\n",
    "replace = {\n",
    "    'rick sanches': 'rick',\n",
    "    'drunk rick': 'rick',\n",
    "    'morty smith': 'morty',\n",
    "    'gromfomite': 'gromflomite',\n",
    "    'other gromflomite': 'gromflomite',\n",
    "    'gromflomite captain': 'gromflomite',\n",
    "    'gromflomite worker': 'gromflomite',\n",
    "    'gromflomite guard': 'gromflomite',\n",
    "    'gromflomite office employee': 'gromflomite',\n",
    "    'rick salseman': 'rick salesman',\n",
    "    'armed ricks': 'armed rick',\n",
    "    'all religious mortys': 'religious morty',\n",
    "    'little tommy': 'tommy',\n",
    "    'meeseek': 'meeseeks',\n",
    "    'all the meeseeks': 'meeseeks',\n",
    "    'all other meeseeks': 'meeseeks',\n",
    "    'mailmen': 'mailman',\n",
    "    'gerry': 'jerry'\n",
    "    \n",
    "}\n",
    "\n",
    "ignore = [\n",
    "    'a mexican armada shows up. with weapons made from two', \n",
    "    'pa system', \n",
    "    'all classmates except morty',\n",
    "    'another voice',\n",
    "    'sexualized s',\n",
    "    'both']"
   ]
  },
  {
   "cell_type": "code",
   "execution_count": 2,
   "metadata": {},
   "outputs": [],
   "source": [
    "json_data = None\n",
    "characters = None\n",
    "with open('data.json') as json_file:\n",
    "    json_data = json.load(json_file)\n",
    "    characters = json_data['characters'].keys()\n",
    "    \n",
    "    \n",
    "\n"
   ]
  },
  {
   "cell_type": "code",
   "execution_count": 3,
   "metadata": {},
   "outputs": [],
   "source": [
    "def parseLine(characterName, line, file, lastSpeaker):\n",
    "    non_actions = re.sub(r'[{\\W}]', ' ', line.lower())\n",
    "    non_actions = re.sub(r'[-{2,}]', '', non_actions)\n",
    "    non_actions = re.sub(r'([a-z])\\1{2,}', r'\\1', non_actions)\n",
    "    doc = nlp(line)\n",
    "    lastToken = None\n",
    "    index = 0\n",
    "    foundSpokenTo = None\n",
    "    \n",
    "    ens = 'ensquanche' in line\n",
    "    \n",
    "    for token in doc:\n",
    "       \n",
    "        if lastToken != None and token.text in characters:\n",
    "            if ens and lastToken != None:\n",
    "                print(lastToken, token,lastToken.is_punct, token.is_punct)\n",
    "            if token.is_punct == True and lastToken.text in characters:            \n",
    "                foundSpokenTo = lastToken\n",
    "            elif lastToken.is_punct == True and token.text in characters:\n",
    "                foundSpokenTo = token\n",
    "                    \n",
    "        index += 1\n",
    "        lastToken = token\n",
    "    \n",
    "#     print(line)\n",
    "#     if foundSpokenTo != None:\n",
    "#         print(characterName, '->', foundSpokenTo.text)\n",
    "#     else:\n",
    "#         print(characterName, '->', lastSpeaker)\n",
    "#     print()\n",
    "    return [characterName, lastSpeaker]\n",
    "    \n"
   ]
  },
  {
   "cell_type": "code",
   "execution_count": 4,
   "metadata": {
    "scrolled": false
   },
   "outputs": [
    {
     "name": "stderr",
     "output_type": "stream",
     "text": [
      "  7%|▋         | 18/245 [00:00<00:01, 171.42it/s]"
     ]
    },
    {
     "name": "stdout",
     "output_type": "stream",
     "text": [
      "Processing:  011 - Ricksy Business.txt\n"
     ]
    },
    {
     "name": "stderr",
     "output_type": "stream",
     "text": [
      "100%|██████████| 245/245 [00:01<00:00, 160.41it/s]\n",
      "  7%|▋         | 19/262 [00:00<00:01, 181.92it/s]"
     ]
    },
    {
     "name": "stdout",
     "output_type": "stream",
     "text": [
      "Processing:  021 - The Wedding Squanchers.txt\n"
     ]
    },
    {
     "name": "stderr",
     "output_type": "stream",
     "text": [
      " 21%|██        | 54/262 [00:00<00:01, 176.52it/s]"
     ]
    },
    {
     "name": "stdout",
     "output_type": "stream",
     "text": [
      ", summer True False\n",
      "be beth False False\n"
     ]
    },
    {
     "name": "stderr",
     "output_type": "stream",
     "text": [
      "100%|██████████| 262/262 [00:01<00:00, 177.87it/s]\n",
      "  6%|▌         | 19/319 [00:00<00:01, 187.64it/s]"
     ]
    },
    {
     "name": "stdout",
     "output_type": "stream",
     "text": [
      "Processing:  015 - Total Rickall.txt\n"
     ]
    },
    {
     "name": "stderr",
     "output_type": "stream",
     "text": [
      "100%|██████████| 319/319 [00:01<00:00, 189.78it/s]\n",
      "  5%|▍         | 16/347 [00:00<00:02, 157.69it/s]"
     ]
    },
    {
     "name": "stdout",
     "output_type": "stream",
     "text": [
      "Processing:  020 - Look Who's Purging Now.txt\n"
     ]
    },
    {
     "name": "stderr",
     "output_type": "stream",
     "text": [
      "100%|██████████| 347/347 [00:01<00:00, 175.61it/s]\n",
      "  8%|▊         | 17/224 [00:00<00:01, 163.86it/s]"
     ]
    },
    {
     "name": "stdout",
     "output_type": "stream",
     "text": [
      "Processing:  029 - Morty's Mind Blowers.txt\n"
     ]
    },
    {
     "name": "stderr",
     "output_type": "stream",
     "text": [
      "100%|██████████| 224/224 [00:01<00:00, 153.11it/s]\n",
      "  6%|▌         | 17/287 [00:00<00:01, 166.65it/s]"
     ]
    },
    {
     "name": "stdout",
     "output_type": "stream",
     "text": [
      "Processing:  001 - Pilot.txt\n"
     ]
    },
    {
     "name": "stderr",
     "output_type": "stream",
     "text": [
      "100%|██████████| 287/287 [00:01<00:00, 147.43it/s]\n",
      "  7%|▋         | 23/340 [00:00<00:01, 223.88it/s]"
     ]
    },
    {
     "name": "stdout",
     "output_type": "stream",
     "text": [
      "Processing:  010 - Close Rick-counters of the Rick Kind.txt\n"
     ]
    },
    {
     "name": "stderr",
     "output_type": "stream",
     "text": [
      "100%|██████████| 340/340 [00:01<00:00, 206.88it/s]\n",
      "  5%|▌         | 15/287 [00:00<00:01, 147.11it/s]"
     ]
    },
    {
     "name": "stdout",
     "output_type": "stream",
     "text": [
      "Processing:  026 - The Whirly Dirly Conspiracy.txt\n"
     ]
    },
    {
     "name": "stderr",
     "output_type": "stream",
     "text": [
      "100%|██████████| 287/287 [00:01<00:00, 167.74it/s]\n",
      "  7%|▋         | 26/358 [00:00<00:01, 246.64it/s]"
     ]
    },
    {
     "name": "stdout",
     "output_type": "stream",
     "text": [
      "Processing:  002 - Lawnmower Dog.txt\n"
     ]
    },
    {
     "name": "stderr",
     "output_type": "stream",
     "text": [
      "100%|██████████| 358/358 [00:01<00:00, 213.34it/s]\n",
      "  7%|▋         | 29/411 [00:00<00:01, 281.67it/s]"
     ]
    },
    {
     "name": "stdout",
     "output_type": "stream",
     "text": [
      "Processing:  016 - Get Schwifty.txt\n"
     ]
    },
    {
     "name": "stderr",
     "output_type": "stream",
     "text": [
      "100%|██████████| 411/411 [00:01<00:00, 238.70it/s]\n",
      "  8%|▊         | 19/235 [00:00<00:01, 185.17it/s]"
     ]
    },
    {
     "name": "stdout",
     "output_type": "stream",
     "text": [
      "Processing:  024 - Pickle Rick.txt\n"
     ]
    },
    {
     "name": "stderr",
     "output_type": "stream",
     "text": [
      "100%|██████████| 235/235 [00:01<00:00, 173.15it/s]\n",
      "  4%|▍         | 16/365 [00:00<00:02, 157.02it/s]"
     ]
    },
    {
     "name": "stdout",
     "output_type": "stream",
     "text": [
      "Processing:  022 - The Rickshank Redemption.txt\n"
     ]
    },
    {
     "name": "stderr",
     "output_type": "stream",
     "text": [
      "100%|██████████| 365/365 [00:01<00:00, 183.01it/s]\n",
      "  6%|▋         | 36/559 [00:00<00:01, 355.51it/s]"
     ]
    },
    {
     "name": "stdout",
     "output_type": "stream",
     "text": [
      "Processing:  007 - Raising Gazorpazorp.txt\n"
     ]
    },
    {
     "name": "stderr",
     "output_type": "stream",
     "text": [
      "100%|██████████| 559/559 [00:00<00:00, 693.18it/s]\n",
      "  6%|▌         | 16/270 [00:00<00:01, 156.82it/s]"
     ]
    },
    {
     "name": "stdout",
     "output_type": "stream",
     "text": [
      "Processing:  018 - Big Trouble In Little Sanchez.txt\n"
     ]
    },
    {
     "name": "stderr",
     "output_type": "stream",
     "text": [
      "100%|██████████| 270/270 [00:01<00:00, 177.09it/s]\n",
      "  8%|▊         | 26/337 [00:00<00:01, 258.50it/s]"
     ]
    },
    {
     "name": "stdout",
     "output_type": "stream",
     "text": [
      "Processing:  014 - Auto Erotic Assimilation.txt\n"
     ]
    },
    {
     "name": "stderr",
     "output_type": "stream",
     "text": [
      "100%|██████████| 337/337 [00:01<00:00, 187.04it/s]\n",
      "  6%|▌         | 18/323 [00:00<00:01, 170.68it/s]"
     ]
    },
    {
     "name": "stdout",
     "output_type": "stream",
     "text": [
      "Processing:  030 - The ABCs of Beth.txt\n"
     ]
    },
    {
     "name": "stderr",
     "output_type": "stream",
     "text": [
      "100%|██████████| 323/323 [00:01<00:00, 173.68it/s]\n",
      " 21%|██        | 24/113 [00:00<00:00, 230.78it/s]"
     ]
    },
    {
     "name": "stdout",
     "output_type": "stream",
     "text": [
      "Processing:  006 - Rick Potion 9.txt\n"
     ]
    },
    {
     "name": "stderr",
     "output_type": "stream",
     "text": [
      "100%|██████████| 113/113 [00:00<00:00, 218.16it/s]\n",
      "  5%|▍         | 21/432 [00:00<00:02, 203.76it/s]"
     ]
    },
    {
     "name": "stdout",
     "output_type": "stream",
     "text": [
      "Processing:  008 - Rixty Minutes.txt\n"
     ]
    },
    {
     "name": "stderr",
     "output_type": "stream",
     "text": [
      "100%|██████████| 432/432 [00:00<00:00, 961.64it/s]\n",
      "  6%|▌         | 25/444 [00:00<00:01, 241.98it/s]"
     ]
    },
    {
     "name": "stdout",
     "output_type": "stream",
     "text": [
      "Processing:  003 - Anatomy Park.txt\n"
     ]
    },
    {
     "name": "stderr",
     "output_type": "stream",
     "text": [
      "100%|██████████| 444/444 [00:01<00:00, 256.18it/s]\n",
      "  7%|▋         | 26/378 [00:00<00:01, 251.26it/s]"
     ]
    },
    {
     "name": "stdout",
     "output_type": "stream",
     "text": [
      "Processing:  009 - Something Ricked This Way Comes.txt\n"
     ]
    },
    {
     "name": "stderr",
     "output_type": "stream",
     "text": [
      "100%|██████████| 378/378 [00:01<00:00, 216.84it/s]\n",
      "  6%|▌         | 22/377 [00:00<00:01, 209.35it/s]"
     ]
    },
    {
     "name": "stdout",
     "output_type": "stream",
     "text": [
      "Processing:  013 - Mortynight Run.txt\n"
     ]
    },
    {
     "name": "stderr",
     "output_type": "stream",
     "text": [
      "100%|██████████| 377/377 [00:01<00:00, 230.70it/s]\n",
      "  9%|▉         | 29/321 [00:00<00:01, 273.90it/s]"
     ]
    },
    {
     "name": "stdout",
     "output_type": "stream",
     "text": [
      "Processing:  005 - Meeseeks and Destroy.txt\n"
     ]
    },
    {
     "name": "stderr",
     "output_type": "stream",
     "text": [
      "100%|██████████| 321/321 [00:01<00:00, 205.89it/s]\n",
      "  7%|▋         | 20/295 [00:00<00:01, 199.07it/s]"
     ]
    },
    {
     "name": "stdout",
     "output_type": "stream",
     "text": [
      "Processing:  004 - M. Night Shaym-Aliens!.txt\n"
     ]
    },
    {
     "name": "stderr",
     "output_type": "stream",
     "text": [
      "100%|██████████| 295/295 [00:01<00:00, 201.63it/s]\n",
      "  6%|▌         | 21/376 [00:00<00:01, 206.11it/s]"
     ]
    },
    {
     "name": "stdout",
     "output_type": "stream",
     "text": [
      "Processing:  023 - Rickmancing the Stone.txt\n"
     ]
    },
    {
     "name": "stderr",
     "output_type": "stream",
     "text": [
      "100%|██████████| 376/376 [00:01<00:00, 206.37it/s]\n",
      "  6%|▌         | 24/411 [00:00<00:01, 223.59it/s]"
     ]
    },
    {
     "name": "stdout",
     "output_type": "stream",
     "text": [
      "Processing:  012 - A Rickle in Time.txt\n"
     ]
    },
    {
     "name": "stderr",
     "output_type": "stream",
     "text": [
      "100%|██████████| 411/411 [00:02<00:00, 196.93it/s]\n"
     ]
    }
   ],
   "source": [
    "document = {}\n",
    "files = os.listdir(\"./parsed\")\n",
    "for filename in files:\n",
    "    print('Processing: ', filename)\n",
    "    episodeName = filename[6:len(filename)-4];\n",
    "    interaction = []\n",
    "    lines = 0\n",
    "    with open(\"./parsed/\" + filename, \"r\") as f:             \n",
    "        for line in f:            \n",
    "            lines += 1\n",
    "    \n",
    "    with open(\"./parsed/\" + filename, \"r\") as f:         \n",
    "        lastSpeaker = ''\n",
    "        for line in tqdm(f, total=lines): \n",
    "            if stripPersonnas == True:\n",
    "                find = re.search(r\"^([a-zA-Z][a-zA-Z \\.]+).*\\:(.*)\", line) \n",
    "            else:\n",
    "                find = re.search(r\"^([a-z][a-z0-9 \\(\\)]+):(.*)\", line)\n",
    "            if find:\n",
    "                name = find.group(1).strip()\n",
    "                text = find.group(2).strip()\n",
    "                if name not in ignore:\n",
    "                    try:\n",
    "                        actualName = replace[name]\n",
    "                    except:\n",
    "                        actualName = name\n",
    "                    \n",
    "                interaction.append(parseLine(actualName, text, filename[6:len(filename)-4], lastSpeaker))\n",
    "                lastSpeaker = name\n",
    "    document[episodeName] = interaction"
   ]
  },
  {
   "cell_type": "code",
   "execution_count": 5,
   "metadata": {},
   "outputs": [],
   "source": [
    "with open('interaction.json', 'w') as fp:\n",
    "    json.dump(document, fp)"
   ]
  }
 ],
 "metadata": {
  "kernelspec": {
   "display_name": "Python 3",
   "language": "python",
   "name": "python3"
  },
  "language_info": {
   "codemirror_mode": {
    "name": "ipython",
    "version": 3
   },
   "file_extension": ".py",
   "mimetype": "text/x-python",
   "name": "python",
   "nbconvert_exporter": "python",
   "pygments_lexer": "ipython3",
   "version": "3.7.0"
  }
 },
 "nbformat": 4,
 "nbformat_minor": 2
}
